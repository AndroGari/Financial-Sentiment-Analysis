{
  "nbformat": 4,
  "nbformat_minor": 0,
  "metadata": {
    "colab": {
      "provenance": [],
      "authorship_tag": "ABX9TyNyOh3XZBNCQtCYmNH1UVk8",
      "include_colab_link": true
    },
    "kernelspec": {
      "name": "python3",
      "display_name": "Python 3"
    },
    "language_info": {
      "name": "python"
    },
    "widgets": {
      "application/vnd.jupyter.widget-state+json": {
        "07bbeb118d2a4a95a21d46ebb3a1a66d": {
          "model_module": "@jupyter-widgets/controls",
          "model_name": "HBoxModel",
          "model_module_version": "1.5.0",
          "state": {
            "_dom_classes": [],
            "_model_module": "@jupyter-widgets/controls",
            "_model_module_version": "1.5.0",
            "_model_name": "HBoxModel",
            "_view_count": null,
            "_view_module": "@jupyter-widgets/controls",
            "_view_module_version": "1.5.0",
            "_view_name": "HBoxView",
            "box_style": "",
            "children": [
              "IPY_MODEL_1b2bb51997b2400f8ac8a5b9af87a327",
              "IPY_MODEL_6598e83d5e2e4cd8a0258b618d1d22a7",
              "IPY_MODEL_f14ff35476e64cef95a100abe51d804d"
            ],
            "layout": "IPY_MODEL_d9c33d7451654e13a081e73299b5b0e5"
          }
        },
        "1b2bb51997b2400f8ac8a5b9af87a327": {
          "model_module": "@jupyter-widgets/controls",
          "model_name": "HTMLModel",
          "model_module_version": "1.5.0",
          "state": {
            "_dom_classes": [],
            "_model_module": "@jupyter-widgets/controls",
            "_model_module_version": "1.5.0",
            "_model_name": "HTMLModel",
            "_view_count": null,
            "_view_module": "@jupyter-widgets/controls",
            "_view_module_version": "1.5.0",
            "_view_name": "HTMLView",
            "description": "",
            "description_tooltip": null,
            "layout": "IPY_MODEL_11e78efd2aa54cd993adaa255946d1a1",
            "placeholder": "​",
            "style": "IPY_MODEL_51d73a042a0a44bca0b9f5d0512604e7",
            "value": "100%"
          }
        },
        "6598e83d5e2e4cd8a0258b618d1d22a7": {
          "model_module": "@jupyter-widgets/controls",
          "model_name": "FloatProgressModel",
          "model_module_version": "1.5.0",
          "state": {
            "_dom_classes": [],
            "_model_module": "@jupyter-widgets/controls",
            "_model_module_version": "1.5.0",
            "_model_name": "FloatProgressModel",
            "_view_count": null,
            "_view_module": "@jupyter-widgets/controls",
            "_view_module_version": "1.5.0",
            "_view_name": "ProgressView",
            "bar_style": "success",
            "description": "",
            "description_tooltip": null,
            "layout": "IPY_MODEL_c56fd5a91cf24b4ba42b3e12c7155910",
            "max": 5842,
            "min": 0,
            "orientation": "horizontal",
            "style": "IPY_MODEL_61b0f3f6100546fda69c63526fdf261e",
            "value": 5842
          }
        },
        "f14ff35476e64cef95a100abe51d804d": {
          "model_module": "@jupyter-widgets/controls",
          "model_name": "HTMLModel",
          "model_module_version": "1.5.0",
          "state": {
            "_dom_classes": [],
            "_model_module": "@jupyter-widgets/controls",
            "_model_module_version": "1.5.0",
            "_model_name": "HTMLModel",
            "_view_count": null,
            "_view_module": "@jupyter-widgets/controls",
            "_view_module_version": "1.5.0",
            "_view_name": "HTMLView",
            "description": "",
            "description_tooltip": null,
            "layout": "IPY_MODEL_29db02c056134c3b848bddb9567435e9",
            "placeholder": "​",
            "style": "IPY_MODEL_b86e3024c9504d4d96827553402ef327",
            "value": " 5842/5842 [00:00&lt;00:00, 8057.77it/s]"
          }
        },
        "d9c33d7451654e13a081e73299b5b0e5": {
          "model_module": "@jupyter-widgets/base",
          "model_name": "LayoutModel",
          "model_module_version": "1.2.0",
          "state": {
            "_model_module": "@jupyter-widgets/base",
            "_model_module_version": "1.2.0",
            "_model_name": "LayoutModel",
            "_view_count": null,
            "_view_module": "@jupyter-widgets/base",
            "_view_module_version": "1.2.0",
            "_view_name": "LayoutView",
            "align_content": null,
            "align_items": null,
            "align_self": null,
            "border": null,
            "bottom": null,
            "display": null,
            "flex": null,
            "flex_flow": null,
            "grid_area": null,
            "grid_auto_columns": null,
            "grid_auto_flow": null,
            "grid_auto_rows": null,
            "grid_column": null,
            "grid_gap": null,
            "grid_row": null,
            "grid_template_areas": null,
            "grid_template_columns": null,
            "grid_template_rows": null,
            "height": null,
            "justify_content": null,
            "justify_items": null,
            "left": null,
            "margin": null,
            "max_height": null,
            "max_width": null,
            "min_height": null,
            "min_width": null,
            "object_fit": null,
            "object_position": null,
            "order": null,
            "overflow": null,
            "overflow_x": null,
            "overflow_y": null,
            "padding": null,
            "right": null,
            "top": null,
            "visibility": null,
            "width": null
          }
        },
        "11e78efd2aa54cd993adaa255946d1a1": {
          "model_module": "@jupyter-widgets/base",
          "model_name": "LayoutModel",
          "model_module_version": "1.2.0",
          "state": {
            "_model_module": "@jupyter-widgets/base",
            "_model_module_version": "1.2.0",
            "_model_name": "LayoutModel",
            "_view_count": null,
            "_view_module": "@jupyter-widgets/base",
            "_view_module_version": "1.2.0",
            "_view_name": "LayoutView",
            "align_content": null,
            "align_items": null,
            "align_self": null,
            "border": null,
            "bottom": null,
            "display": null,
            "flex": null,
            "flex_flow": null,
            "grid_area": null,
            "grid_auto_columns": null,
            "grid_auto_flow": null,
            "grid_auto_rows": null,
            "grid_column": null,
            "grid_gap": null,
            "grid_row": null,
            "grid_template_areas": null,
            "grid_template_columns": null,
            "grid_template_rows": null,
            "height": null,
            "justify_content": null,
            "justify_items": null,
            "left": null,
            "margin": null,
            "max_height": null,
            "max_width": null,
            "min_height": null,
            "min_width": null,
            "object_fit": null,
            "object_position": null,
            "order": null,
            "overflow": null,
            "overflow_x": null,
            "overflow_y": null,
            "padding": null,
            "right": null,
            "top": null,
            "visibility": null,
            "width": null
          }
        },
        "51d73a042a0a44bca0b9f5d0512604e7": {
          "model_module": "@jupyter-widgets/controls",
          "model_name": "DescriptionStyleModel",
          "model_module_version": "1.5.0",
          "state": {
            "_model_module": "@jupyter-widgets/controls",
            "_model_module_version": "1.5.0",
            "_model_name": "DescriptionStyleModel",
            "_view_count": null,
            "_view_module": "@jupyter-widgets/base",
            "_view_module_version": "1.2.0",
            "_view_name": "StyleView",
            "description_width": ""
          }
        },
        "c56fd5a91cf24b4ba42b3e12c7155910": {
          "model_module": "@jupyter-widgets/base",
          "model_name": "LayoutModel",
          "model_module_version": "1.2.0",
          "state": {
            "_model_module": "@jupyter-widgets/base",
            "_model_module_version": "1.2.0",
            "_model_name": "LayoutModel",
            "_view_count": null,
            "_view_module": "@jupyter-widgets/base",
            "_view_module_version": "1.2.0",
            "_view_name": "LayoutView",
            "align_content": null,
            "align_items": null,
            "align_self": null,
            "border": null,
            "bottom": null,
            "display": null,
            "flex": null,
            "flex_flow": null,
            "grid_area": null,
            "grid_auto_columns": null,
            "grid_auto_flow": null,
            "grid_auto_rows": null,
            "grid_column": null,
            "grid_gap": null,
            "grid_row": null,
            "grid_template_areas": null,
            "grid_template_columns": null,
            "grid_template_rows": null,
            "height": null,
            "justify_content": null,
            "justify_items": null,
            "left": null,
            "margin": null,
            "max_height": null,
            "max_width": null,
            "min_height": null,
            "min_width": null,
            "object_fit": null,
            "object_position": null,
            "order": null,
            "overflow": null,
            "overflow_x": null,
            "overflow_y": null,
            "padding": null,
            "right": null,
            "top": null,
            "visibility": null,
            "width": null
          }
        },
        "61b0f3f6100546fda69c63526fdf261e": {
          "model_module": "@jupyter-widgets/controls",
          "model_name": "ProgressStyleModel",
          "model_module_version": "1.5.0",
          "state": {
            "_model_module": "@jupyter-widgets/controls",
            "_model_module_version": "1.5.0",
            "_model_name": "ProgressStyleModel",
            "_view_count": null,
            "_view_module": "@jupyter-widgets/base",
            "_view_module_version": "1.2.0",
            "_view_name": "StyleView",
            "bar_color": null,
            "description_width": ""
          }
        },
        "29db02c056134c3b848bddb9567435e9": {
          "model_module": "@jupyter-widgets/base",
          "model_name": "LayoutModel",
          "model_module_version": "1.2.0",
          "state": {
            "_model_module": "@jupyter-widgets/base",
            "_model_module_version": "1.2.0",
            "_model_name": "LayoutModel",
            "_view_count": null,
            "_view_module": "@jupyter-widgets/base",
            "_view_module_version": "1.2.0",
            "_view_name": "LayoutView",
            "align_content": null,
            "align_items": null,
            "align_self": null,
            "border": null,
            "bottom": null,
            "display": null,
            "flex": null,
            "flex_flow": null,
            "grid_area": null,
            "grid_auto_columns": null,
            "grid_auto_flow": null,
            "grid_auto_rows": null,
            "grid_column": null,
            "grid_gap": null,
            "grid_row": null,
            "grid_template_areas": null,
            "grid_template_columns": null,
            "grid_template_rows": null,
            "height": null,
            "justify_content": null,
            "justify_items": null,
            "left": null,
            "margin": null,
            "max_height": null,
            "max_width": null,
            "min_height": null,
            "min_width": null,
            "object_fit": null,
            "object_position": null,
            "order": null,
            "overflow": null,
            "overflow_x": null,
            "overflow_y": null,
            "padding": null,
            "right": null,
            "top": null,
            "visibility": null,
            "width": null
          }
        },
        "b86e3024c9504d4d96827553402ef327": {
          "model_module": "@jupyter-widgets/controls",
          "model_name": "DescriptionStyleModel",
          "model_module_version": "1.5.0",
          "state": {
            "_model_module": "@jupyter-widgets/controls",
            "_model_module_version": "1.5.0",
            "_model_name": "DescriptionStyleModel",
            "_view_count": null,
            "_view_module": "@jupyter-widgets/base",
            "_view_module_version": "1.2.0",
            "_view_name": "StyleView",
            "description_width": ""
          }
        },
        "5e2e3bd2221945b59345b90ff126d663": {
          "model_module": "@jupyter-widgets/controls",
          "model_name": "HBoxModel",
          "model_module_version": "1.5.0",
          "state": {
            "_dom_classes": [],
            "_model_module": "@jupyter-widgets/controls",
            "_model_module_version": "1.5.0",
            "_model_name": "HBoxModel",
            "_view_count": null,
            "_view_module": "@jupyter-widgets/controls",
            "_view_module_version": "1.5.0",
            "_view_name": "HBoxView",
            "box_style": "",
            "children": [
              "IPY_MODEL_0669b70bf1f84d84b47cf27e29551ad4",
              "IPY_MODEL_17b026a98bd945d3b97156c0aa688aa4",
              "IPY_MODEL_06a67bd7fbea4f85852be9c0d3c9a953"
            ],
            "layout": "IPY_MODEL_6a0ff69b4a8c4391bfe6446f09f15f3d"
          }
        },
        "0669b70bf1f84d84b47cf27e29551ad4": {
          "model_module": "@jupyter-widgets/controls",
          "model_name": "HTMLModel",
          "model_module_version": "1.5.0",
          "state": {
            "_dom_classes": [],
            "_model_module": "@jupyter-widgets/controls",
            "_model_module_version": "1.5.0",
            "_model_name": "HTMLModel",
            "_view_count": null,
            "_view_module": "@jupyter-widgets/controls",
            "_view_module_version": "1.5.0",
            "_view_name": "HTMLView",
            "description": "",
            "description_tooltip": null,
            "layout": "IPY_MODEL_e1442668bbc248e6990475f773115481",
            "placeholder": "​",
            "style": "IPY_MODEL_e413dfcea1ad4156a913b8ca31c39cd4",
            "value": "100%"
          }
        },
        "17b026a98bd945d3b97156c0aa688aa4": {
          "model_module": "@jupyter-widgets/controls",
          "model_name": "FloatProgressModel",
          "model_module_version": "1.5.0",
          "state": {
            "_dom_classes": [],
            "_model_module": "@jupyter-widgets/controls",
            "_model_module_version": "1.5.0",
            "_model_name": "FloatProgressModel",
            "_view_count": null,
            "_view_module": "@jupyter-widgets/controls",
            "_view_module_version": "1.5.0",
            "_view_name": "ProgressView",
            "bar_style": "success",
            "description": "",
            "description_tooltip": null,
            "layout": "IPY_MODEL_9da7c2bd1e304128b76000701ac88ef0",
            "max": 10912,
            "min": 0,
            "orientation": "horizontal",
            "style": "IPY_MODEL_5e2b04a574df47b4ac8191033ae06354",
            "value": 10912
          }
        },
        "06a67bd7fbea4f85852be9c0d3c9a953": {
          "model_module": "@jupyter-widgets/controls",
          "model_name": "HTMLModel",
          "model_module_version": "1.5.0",
          "state": {
            "_dom_classes": [],
            "_model_module": "@jupyter-widgets/controls",
            "_model_module_version": "1.5.0",
            "_model_name": "HTMLModel",
            "_view_count": null,
            "_view_module": "@jupyter-widgets/controls",
            "_view_module_version": "1.5.0",
            "_view_name": "HTMLView",
            "description": "",
            "description_tooltip": null,
            "layout": "IPY_MODEL_194018f8cd9d47d381e696f889cf0be3",
            "placeholder": "​",
            "style": "IPY_MODEL_09b69ec7a66b41aabe18b6e53c80b0b7",
            "value": " 10912/10912 [00:00&lt;00:00, 52126.25it/s]"
          }
        },
        "6a0ff69b4a8c4391bfe6446f09f15f3d": {
          "model_module": "@jupyter-widgets/base",
          "model_name": "LayoutModel",
          "model_module_version": "1.2.0",
          "state": {
            "_model_module": "@jupyter-widgets/base",
            "_model_module_version": "1.2.0",
            "_model_name": "LayoutModel",
            "_view_count": null,
            "_view_module": "@jupyter-widgets/base",
            "_view_module_version": "1.2.0",
            "_view_name": "LayoutView",
            "align_content": null,
            "align_items": null,
            "align_self": null,
            "border": null,
            "bottom": null,
            "display": null,
            "flex": null,
            "flex_flow": null,
            "grid_area": null,
            "grid_auto_columns": null,
            "grid_auto_flow": null,
            "grid_auto_rows": null,
            "grid_column": null,
            "grid_gap": null,
            "grid_row": null,
            "grid_template_areas": null,
            "grid_template_columns": null,
            "grid_template_rows": null,
            "height": null,
            "justify_content": null,
            "justify_items": null,
            "left": null,
            "margin": null,
            "max_height": null,
            "max_width": null,
            "min_height": null,
            "min_width": null,
            "object_fit": null,
            "object_position": null,
            "order": null,
            "overflow": null,
            "overflow_x": null,
            "overflow_y": null,
            "padding": null,
            "right": null,
            "top": null,
            "visibility": null,
            "width": null
          }
        },
        "e1442668bbc248e6990475f773115481": {
          "model_module": "@jupyter-widgets/base",
          "model_name": "LayoutModel",
          "model_module_version": "1.2.0",
          "state": {
            "_model_module": "@jupyter-widgets/base",
            "_model_module_version": "1.2.0",
            "_model_name": "LayoutModel",
            "_view_count": null,
            "_view_module": "@jupyter-widgets/base",
            "_view_module_version": "1.2.0",
            "_view_name": "LayoutView",
            "align_content": null,
            "align_items": null,
            "align_self": null,
            "border": null,
            "bottom": null,
            "display": null,
            "flex": null,
            "flex_flow": null,
            "grid_area": null,
            "grid_auto_columns": null,
            "grid_auto_flow": null,
            "grid_auto_rows": null,
            "grid_column": null,
            "grid_gap": null,
            "grid_row": null,
            "grid_template_areas": null,
            "grid_template_columns": null,
            "grid_template_rows": null,
            "height": null,
            "justify_content": null,
            "justify_items": null,
            "left": null,
            "margin": null,
            "max_height": null,
            "max_width": null,
            "min_height": null,
            "min_width": null,
            "object_fit": null,
            "object_position": null,
            "order": null,
            "overflow": null,
            "overflow_x": null,
            "overflow_y": null,
            "padding": null,
            "right": null,
            "top": null,
            "visibility": null,
            "width": null
          }
        },
        "e413dfcea1ad4156a913b8ca31c39cd4": {
          "model_module": "@jupyter-widgets/controls",
          "model_name": "DescriptionStyleModel",
          "model_module_version": "1.5.0",
          "state": {
            "_model_module": "@jupyter-widgets/controls",
            "_model_module_version": "1.5.0",
            "_model_name": "DescriptionStyleModel",
            "_view_count": null,
            "_view_module": "@jupyter-widgets/base",
            "_view_module_version": "1.2.0",
            "_view_name": "StyleView",
            "description_width": ""
          }
        },
        "9da7c2bd1e304128b76000701ac88ef0": {
          "model_module": "@jupyter-widgets/base",
          "model_name": "LayoutModel",
          "model_module_version": "1.2.0",
          "state": {
            "_model_module": "@jupyter-widgets/base",
            "_model_module_version": "1.2.0",
            "_model_name": "LayoutModel",
            "_view_count": null,
            "_view_module": "@jupyter-widgets/base",
            "_view_module_version": "1.2.0",
            "_view_name": "LayoutView",
            "align_content": null,
            "align_items": null,
            "align_self": null,
            "border": null,
            "bottom": null,
            "display": null,
            "flex": null,
            "flex_flow": null,
            "grid_area": null,
            "grid_auto_columns": null,
            "grid_auto_flow": null,
            "grid_auto_rows": null,
            "grid_column": null,
            "grid_gap": null,
            "grid_row": null,
            "grid_template_areas": null,
            "grid_template_columns": null,
            "grid_template_rows": null,
            "height": null,
            "justify_content": null,
            "justify_items": null,
            "left": null,
            "margin": null,
            "max_height": null,
            "max_width": null,
            "min_height": null,
            "min_width": null,
            "object_fit": null,
            "object_position": null,
            "order": null,
            "overflow": null,
            "overflow_x": null,
            "overflow_y": null,
            "padding": null,
            "right": null,
            "top": null,
            "visibility": null,
            "width": null
          }
        },
        "5e2b04a574df47b4ac8191033ae06354": {
          "model_module": "@jupyter-widgets/controls",
          "model_name": "ProgressStyleModel",
          "model_module_version": "1.5.0",
          "state": {
            "_model_module": "@jupyter-widgets/controls",
            "_model_module_version": "1.5.0",
            "_model_name": "ProgressStyleModel",
            "_view_count": null,
            "_view_module": "@jupyter-widgets/base",
            "_view_module_version": "1.2.0",
            "_view_name": "StyleView",
            "bar_color": null,
            "description_width": ""
          }
        },
        "194018f8cd9d47d381e696f889cf0be3": {
          "model_module": "@jupyter-widgets/base",
          "model_name": "LayoutModel",
          "model_module_version": "1.2.0",
          "state": {
            "_model_module": "@jupyter-widgets/base",
            "_model_module_version": "1.2.0",
            "_model_name": "LayoutModel",
            "_view_count": null,
            "_view_module": "@jupyter-widgets/base",
            "_view_module_version": "1.2.0",
            "_view_name": "LayoutView",
            "align_content": null,
            "align_items": null,
            "align_self": null,
            "border": null,
            "bottom": null,
            "display": null,
            "flex": null,
            "flex_flow": null,
            "grid_area": null,
            "grid_auto_columns": null,
            "grid_auto_flow": null,
            "grid_auto_rows": null,
            "grid_column": null,
            "grid_gap": null,
            "grid_row": null,
            "grid_template_areas": null,
            "grid_template_columns": null,
            "grid_template_rows": null,
            "height": null,
            "justify_content": null,
            "justify_items": null,
            "left": null,
            "margin": null,
            "max_height": null,
            "max_width": null,
            "min_height": null,
            "min_width": null,
            "object_fit": null,
            "object_position": null,
            "order": null,
            "overflow": null,
            "overflow_x": null,
            "overflow_y": null,
            "padding": null,
            "right": null,
            "top": null,
            "visibility": null,
            "width": null
          }
        },
        "09b69ec7a66b41aabe18b6e53c80b0b7": {
          "model_module": "@jupyter-widgets/controls",
          "model_name": "DescriptionStyleModel",
          "model_module_version": "1.5.0",
          "state": {
            "_model_module": "@jupyter-widgets/controls",
            "_model_module_version": "1.5.0",
            "_model_name": "DescriptionStyleModel",
            "_view_count": null,
            "_view_module": "@jupyter-widgets/base",
            "_view_module_version": "1.2.0",
            "_view_name": "StyleView",
            "description_width": ""
          }
        },
        "fe5c710205c74c2dbfdc28b8a86c3fa8": {
          "model_module": "@jupyter-widgets/controls",
          "model_name": "HBoxModel",
          "model_module_version": "1.5.0",
          "state": {
            "_dom_classes": [],
            "_model_module": "@jupyter-widgets/controls",
            "_model_module_version": "1.5.0",
            "_model_name": "HBoxModel",
            "_view_count": null,
            "_view_module": "@jupyter-widgets/controls",
            "_view_module_version": "1.5.0",
            "_view_name": "HBoxView",
            "box_style": "",
            "children": [
              "IPY_MODEL_18d9d5ce8ff74aaab126a2cfb31b686f",
              "IPY_MODEL_97c20e7302014e7e97c437325b021f73",
              "IPY_MODEL_7575dab6f7b54cab8da21f9463acb551"
            ],
            "layout": "IPY_MODEL_c8ba747ac1854547bd84f85e73902e55"
          }
        },
        "18d9d5ce8ff74aaab126a2cfb31b686f": {
          "model_module": "@jupyter-widgets/controls",
          "model_name": "HTMLModel",
          "model_module_version": "1.5.0",
          "state": {
            "_dom_classes": [],
            "_model_module": "@jupyter-widgets/controls",
            "_model_module_version": "1.5.0",
            "_model_name": "HTMLModel",
            "_view_count": null,
            "_view_module": "@jupyter-widgets/controls",
            "_view_module_version": "1.5.0",
            "_view_name": "HTMLView",
            "description": "",
            "description_tooltip": null,
            "layout": "IPY_MODEL_b78efdc67cef49a3a34b3c54aa6d42a0",
            "placeholder": "​",
            "style": "IPY_MODEL_f89a1635a7f447d8b9ace4ae04d9dd40",
            "value": "100%"
          }
        },
        "97c20e7302014e7e97c437325b021f73": {
          "model_module": "@jupyter-widgets/controls",
          "model_name": "FloatProgressModel",
          "model_module_version": "1.5.0",
          "state": {
            "_dom_classes": [],
            "_model_module": "@jupyter-widgets/controls",
            "_model_module_version": "1.5.0",
            "_model_name": "FloatProgressModel",
            "_view_count": null,
            "_view_module": "@jupyter-widgets/controls",
            "_view_module_version": "1.5.0",
            "_view_name": "ProgressView",
            "bar_style": "success",
            "description": "",
            "description_tooltip": null,
            "layout": "IPY_MODEL_75fc928cb73441429da893c69e0eac45",
            "max": 10912,
            "min": 0,
            "orientation": "horizontal",
            "style": "IPY_MODEL_914caffc252446d09ecf1621027c6cc9",
            "value": 10912
          }
        },
        "7575dab6f7b54cab8da21f9463acb551": {
          "model_module": "@jupyter-widgets/controls",
          "model_name": "HTMLModel",
          "model_module_version": "1.5.0",
          "state": {
            "_dom_classes": [],
            "_model_module": "@jupyter-widgets/controls",
            "_model_module_version": "1.5.0",
            "_model_name": "HTMLModel",
            "_view_count": null,
            "_view_module": "@jupyter-widgets/controls",
            "_view_module_version": "1.5.0",
            "_view_name": "HTMLView",
            "description": "",
            "description_tooltip": null,
            "layout": "IPY_MODEL_1fd67f7689934f4da8ef0bbeac7b7d8e",
            "placeholder": "​",
            "style": "IPY_MODEL_10b37e5e7b3f4cbdb26f6c379780b5ed",
            "value": " 10912/10912 [00:00&lt;00:00, 97051.45it/s]"
          }
        },
        "c8ba747ac1854547bd84f85e73902e55": {
          "model_module": "@jupyter-widgets/base",
          "model_name": "LayoutModel",
          "model_module_version": "1.2.0",
          "state": {
            "_model_module": "@jupyter-widgets/base",
            "_model_module_version": "1.2.0",
            "_model_name": "LayoutModel",
            "_view_count": null,
            "_view_module": "@jupyter-widgets/base",
            "_view_module_version": "1.2.0",
            "_view_name": "LayoutView",
            "align_content": null,
            "align_items": null,
            "align_self": null,
            "border": null,
            "bottom": null,
            "display": null,
            "flex": null,
            "flex_flow": null,
            "grid_area": null,
            "grid_auto_columns": null,
            "grid_auto_flow": null,
            "grid_auto_rows": null,
            "grid_column": null,
            "grid_gap": null,
            "grid_row": null,
            "grid_template_areas": null,
            "grid_template_columns": null,
            "grid_template_rows": null,
            "height": null,
            "justify_content": null,
            "justify_items": null,
            "left": null,
            "margin": null,
            "max_height": null,
            "max_width": null,
            "min_height": null,
            "min_width": null,
            "object_fit": null,
            "object_position": null,
            "order": null,
            "overflow": null,
            "overflow_x": null,
            "overflow_y": null,
            "padding": null,
            "right": null,
            "top": null,
            "visibility": null,
            "width": null
          }
        },
        "b78efdc67cef49a3a34b3c54aa6d42a0": {
          "model_module": "@jupyter-widgets/base",
          "model_name": "LayoutModel",
          "model_module_version": "1.2.0",
          "state": {
            "_model_module": "@jupyter-widgets/base",
            "_model_module_version": "1.2.0",
            "_model_name": "LayoutModel",
            "_view_count": null,
            "_view_module": "@jupyter-widgets/base",
            "_view_module_version": "1.2.0",
            "_view_name": "LayoutView",
            "align_content": null,
            "align_items": null,
            "align_self": null,
            "border": null,
            "bottom": null,
            "display": null,
            "flex": null,
            "flex_flow": null,
            "grid_area": null,
            "grid_auto_columns": null,
            "grid_auto_flow": null,
            "grid_auto_rows": null,
            "grid_column": null,
            "grid_gap": null,
            "grid_row": null,
            "grid_template_areas": null,
            "grid_template_columns": null,
            "grid_template_rows": null,
            "height": null,
            "justify_content": null,
            "justify_items": null,
            "left": null,
            "margin": null,
            "max_height": null,
            "max_width": null,
            "min_height": null,
            "min_width": null,
            "object_fit": null,
            "object_position": null,
            "order": null,
            "overflow": null,
            "overflow_x": null,
            "overflow_y": null,
            "padding": null,
            "right": null,
            "top": null,
            "visibility": null,
            "width": null
          }
        },
        "f89a1635a7f447d8b9ace4ae04d9dd40": {
          "model_module": "@jupyter-widgets/controls",
          "model_name": "DescriptionStyleModel",
          "model_module_version": "1.5.0",
          "state": {
            "_model_module": "@jupyter-widgets/controls",
            "_model_module_version": "1.5.0",
            "_model_name": "DescriptionStyleModel",
            "_view_count": null,
            "_view_module": "@jupyter-widgets/base",
            "_view_module_version": "1.2.0",
            "_view_name": "StyleView",
            "description_width": ""
          }
        },
        "75fc928cb73441429da893c69e0eac45": {
          "model_module": "@jupyter-widgets/base",
          "model_name": "LayoutModel",
          "model_module_version": "1.2.0",
          "state": {
            "_model_module": "@jupyter-widgets/base",
            "_model_module_version": "1.2.0",
            "_model_name": "LayoutModel",
            "_view_count": null,
            "_view_module": "@jupyter-widgets/base",
            "_view_module_version": "1.2.0",
            "_view_name": "LayoutView",
            "align_content": null,
            "align_items": null,
            "align_self": null,
            "border": null,
            "bottom": null,
            "display": null,
            "flex": null,
            "flex_flow": null,
            "grid_area": null,
            "grid_auto_columns": null,
            "grid_auto_flow": null,
            "grid_auto_rows": null,
            "grid_column": null,
            "grid_gap": null,
            "grid_row": null,
            "grid_template_areas": null,
            "grid_template_columns": null,
            "grid_template_rows": null,
            "height": null,
            "justify_content": null,
            "justify_items": null,
            "left": null,
            "margin": null,
            "max_height": null,
            "max_width": null,
            "min_height": null,
            "min_width": null,
            "object_fit": null,
            "object_position": null,
            "order": null,
            "overflow": null,
            "overflow_x": null,
            "overflow_y": null,
            "padding": null,
            "right": null,
            "top": null,
            "visibility": null,
            "width": null
          }
        },
        "914caffc252446d09ecf1621027c6cc9": {
          "model_module": "@jupyter-widgets/controls",
          "model_name": "ProgressStyleModel",
          "model_module_version": "1.5.0",
          "state": {
            "_model_module": "@jupyter-widgets/controls",
            "_model_module_version": "1.5.0",
            "_model_name": "ProgressStyleModel",
            "_view_count": null,
            "_view_module": "@jupyter-widgets/base",
            "_view_module_version": "1.2.0",
            "_view_name": "StyleView",
            "bar_color": null,
            "description_width": ""
          }
        },
        "1fd67f7689934f4da8ef0bbeac7b7d8e": {
          "model_module": "@jupyter-widgets/base",
          "model_name": "LayoutModel",
          "model_module_version": "1.2.0",
          "state": {
            "_model_module": "@jupyter-widgets/base",
            "_model_module_version": "1.2.0",
            "_model_name": "LayoutModel",
            "_view_count": null,
            "_view_module": "@jupyter-widgets/base",
            "_view_module_version": "1.2.0",
            "_view_name": "LayoutView",
            "align_content": null,
            "align_items": null,
            "align_self": null,
            "border": null,
            "bottom": null,
            "display": null,
            "flex": null,
            "flex_flow": null,
            "grid_area": null,
            "grid_auto_columns": null,
            "grid_auto_flow": null,
            "grid_auto_rows": null,
            "grid_column": null,
            "grid_gap": null,
            "grid_row": null,
            "grid_template_areas": null,
            "grid_template_columns": null,
            "grid_template_rows": null,
            "height": null,
            "justify_content": null,
            "justify_items": null,
            "left": null,
            "margin": null,
            "max_height": null,
            "max_width": null,
            "min_height": null,
            "min_width": null,
            "object_fit": null,
            "object_position": null,
            "order": null,
            "overflow": null,
            "overflow_x": null,
            "overflow_y": null,
            "padding": null,
            "right": null,
            "top": null,
            "visibility": null,
            "width": null
          }
        },
        "10b37e5e7b3f4cbdb26f6c379780b5ed": {
          "model_module": "@jupyter-widgets/controls",
          "model_name": "DescriptionStyleModel",
          "model_module_version": "1.5.0",
          "state": {
            "_model_module": "@jupyter-widgets/controls",
            "_model_module_version": "1.5.0",
            "_model_name": "DescriptionStyleModel",
            "_view_count": null,
            "_view_module": "@jupyter-widgets/base",
            "_view_module_version": "1.2.0",
            "_view_name": "StyleView",
            "description_width": ""
          }
        }
      }
    }
  },
  "cells": [
    {
      "cell_type": "markdown",
      "metadata": {
        "id": "view-in-github",
        "colab_type": "text"
      },
      "source": [
        "<a href=\"https://colab.research.google.com/github/AndroGari/Financial-Sentiment-Analysis/blob/master/Financial_Sentiment_Analysis_ML.ipynb\" target=\"_parent\"><img src=\"https://colab.research.google.com/assets/colab-badge.svg\" alt=\"Open In Colab\"/></a>"
      ]
    },
    {
      "cell_type": "code",
      "execution_count": null,
      "metadata": {
        "id": "16BvojrH3j6R",
        "colab": {
          "base_uri": "https://localhost:8080/"
        },
        "outputId": "1c217a50-bdcc-4392-e222-c64fa54ce2d6"
      },
      "outputs": [
        {
          "output_type": "stream",
          "name": "stdout",
          "text": [
            "Collecting text_hammer\n",
            "  Downloading text_hammer-0.1.5-py3-none-any.whl (7.6 kB)\n",
            "Collecting beautifulsoup4==4.9.1 (from text_hammer)\n",
            "  Downloading beautifulsoup4-4.9.1-py3-none-any.whl (115 kB)\n",
            "\u001b[?25l     \u001b[90m━━━━━━━━━━━━━━━━━━━━━━━━━━━━━━━━━━━━━━━━\u001b[0m \u001b[32m0.0/115.1 kB\u001b[0m \u001b[31m?\u001b[0m eta \u001b[36m-:--:--\u001b[0m\r\u001b[2K     \u001b[90m━━━━━━━━━━━━━━━━━━━━━━━━━━━━━━━━━━━━━━━\u001b[0m \u001b[32m115.1/115.1 kB\u001b[0m \u001b[31m9.1 MB/s\u001b[0m eta \u001b[36m0:00:00\u001b[0m\n",
            "\u001b[?25hRequirement already satisfied: pandas in /usr/local/lib/python3.10/dist-packages (from text_hammer) (1.5.3)\n",
            "Requirement already satisfied: numpy in /usr/local/lib/python3.10/dist-packages (from text_hammer) (1.22.4)\n",
            "Requirement already satisfied: spacy in /usr/local/lib/python3.10/dist-packages (from text_hammer) (3.5.4)\n",
            "Requirement already satisfied: TextBlob in /usr/local/lib/python3.10/dist-packages (from text_hammer) (0.17.1)\n",
            "Requirement already satisfied: soupsieve>1.2 in /usr/local/lib/python3.10/dist-packages (from beautifulsoup4==4.9.1->text_hammer) (2.4.1)\n",
            "Requirement already satisfied: python-dateutil>=2.8.1 in /usr/local/lib/python3.10/dist-packages (from pandas->text_hammer) (2.8.2)\n",
            "Requirement already satisfied: pytz>=2020.1 in /usr/local/lib/python3.10/dist-packages (from pandas->text_hammer) (2022.7.1)\n",
            "Requirement already satisfied: spacy-legacy<3.1.0,>=3.0.11 in /usr/local/lib/python3.10/dist-packages (from spacy->text_hammer) (3.0.12)\n",
            "Requirement already satisfied: spacy-loggers<2.0.0,>=1.0.0 in /usr/local/lib/python3.10/dist-packages (from spacy->text_hammer) (1.0.4)\n",
            "Requirement already satisfied: murmurhash<1.1.0,>=0.28.0 in /usr/local/lib/python3.10/dist-packages (from spacy->text_hammer) (1.0.9)\n",
            "Requirement already satisfied: cymem<2.1.0,>=2.0.2 in /usr/local/lib/python3.10/dist-packages (from spacy->text_hammer) (2.0.7)\n",
            "Requirement already satisfied: preshed<3.1.0,>=3.0.2 in /usr/local/lib/python3.10/dist-packages (from spacy->text_hammer) (3.0.8)\n",
            "Requirement already satisfied: thinc<8.2.0,>=8.1.8 in /usr/local/lib/python3.10/dist-packages (from spacy->text_hammer) (8.1.10)\n",
            "Requirement already satisfied: wasabi<1.2.0,>=0.9.1 in /usr/local/lib/python3.10/dist-packages (from spacy->text_hammer) (1.1.2)\n",
            "Requirement already satisfied: srsly<3.0.0,>=2.4.3 in /usr/local/lib/python3.10/dist-packages (from spacy->text_hammer) (2.4.6)\n",
            "Requirement already satisfied: catalogue<2.1.0,>=2.0.6 in /usr/local/lib/python3.10/dist-packages (from spacy->text_hammer) (2.0.8)\n",
            "Requirement already satisfied: typer<0.10.0,>=0.3.0 in /usr/local/lib/python3.10/dist-packages (from spacy->text_hammer) (0.9.0)\n",
            "Requirement already satisfied: pathy>=0.10.0 in /usr/local/lib/python3.10/dist-packages (from spacy->text_hammer) (0.10.2)\n",
            "Requirement already satisfied: smart-open<7.0.0,>=5.2.1 in /usr/local/lib/python3.10/dist-packages (from spacy->text_hammer) (6.3.0)\n",
            "Requirement already satisfied: tqdm<5.0.0,>=4.38.0 in /usr/local/lib/python3.10/dist-packages (from spacy->text_hammer) (4.65.0)\n",
            "Requirement already satisfied: requests<3.0.0,>=2.13.0 in /usr/local/lib/python3.10/dist-packages (from spacy->text_hammer) (2.27.1)\n",
            "Requirement already satisfied: pydantic!=1.8,!=1.8.1,<1.11.0,>=1.7.4 in /usr/local/lib/python3.10/dist-packages (from spacy->text_hammer) (1.10.11)\n",
            "Requirement already satisfied: jinja2 in /usr/local/lib/python3.10/dist-packages (from spacy->text_hammer) (3.1.2)\n",
            "Requirement already satisfied: setuptools in /usr/local/lib/python3.10/dist-packages (from spacy->text_hammer) (67.7.2)\n",
            "Requirement already satisfied: packaging>=20.0 in /usr/local/lib/python3.10/dist-packages (from spacy->text_hammer) (23.1)\n",
            "Requirement already satisfied: langcodes<4.0.0,>=3.2.0 in /usr/local/lib/python3.10/dist-packages (from spacy->text_hammer) (3.3.0)\n",
            "Requirement already satisfied: nltk>=3.1 in /usr/local/lib/python3.10/dist-packages (from TextBlob->text_hammer) (3.8.1)\n",
            "Requirement already satisfied: click in /usr/local/lib/python3.10/dist-packages (from nltk>=3.1->TextBlob->text_hammer) (8.1.4)\n",
            "Requirement already satisfied: joblib in /usr/local/lib/python3.10/dist-packages (from nltk>=3.1->TextBlob->text_hammer) (1.3.1)\n",
            "Requirement already satisfied: regex>=2021.8.3 in /usr/local/lib/python3.10/dist-packages (from nltk>=3.1->TextBlob->text_hammer) (2022.10.31)\n",
            "Requirement already satisfied: typing-extensions>=4.2.0 in /usr/local/lib/python3.10/dist-packages (from pydantic!=1.8,!=1.8.1,<1.11.0,>=1.7.4->spacy->text_hammer) (4.7.1)\n",
            "Requirement already satisfied: six>=1.5 in /usr/local/lib/python3.10/dist-packages (from python-dateutil>=2.8.1->pandas->text_hammer) (1.16.0)\n",
            "Requirement already satisfied: urllib3<1.27,>=1.21.1 in /usr/local/lib/python3.10/dist-packages (from requests<3.0.0,>=2.13.0->spacy->text_hammer) (1.26.16)\n",
            "Requirement already satisfied: certifi>=2017.4.17 in /usr/local/lib/python3.10/dist-packages (from requests<3.0.0,>=2.13.0->spacy->text_hammer) (2023.5.7)\n",
            "Requirement already satisfied: charset-normalizer~=2.0.0 in /usr/local/lib/python3.10/dist-packages (from requests<3.0.0,>=2.13.0->spacy->text_hammer) (2.0.12)\n",
            "Requirement already satisfied: idna<4,>=2.5 in /usr/local/lib/python3.10/dist-packages (from requests<3.0.0,>=2.13.0->spacy->text_hammer) (3.4)\n",
            "Requirement already satisfied: blis<0.8.0,>=0.7.8 in /usr/local/lib/python3.10/dist-packages (from thinc<8.2.0,>=8.1.8->spacy->text_hammer) (0.7.9)\n",
            "Requirement already satisfied: confection<1.0.0,>=0.0.1 in /usr/local/lib/python3.10/dist-packages (from thinc<8.2.0,>=8.1.8->spacy->text_hammer) (0.1.0)\n",
            "Requirement already satisfied: MarkupSafe>=2.0 in /usr/local/lib/python3.10/dist-packages (from jinja2->spacy->text_hammer) (2.1.3)\n",
            "Installing collected packages: beautifulsoup4, text_hammer\n",
            "  Attempting uninstall: beautifulsoup4\n",
            "    Found existing installation: beautifulsoup4 4.11.2\n",
            "    Uninstalling beautifulsoup4-4.11.2:\n",
            "      Successfully uninstalled beautifulsoup4-4.11.2\n",
            "\u001b[31mERROR: pip's dependency resolver does not currently take into account all the packages that are installed. This behaviour is the source of the following dependency conflicts.\n",
            "yfinance 0.2.22 requires beautifulsoup4>=4.11.1, but you have beautifulsoup4 4.9.1 which is incompatible.\u001b[0m\u001b[31m\n",
            "\u001b[0mSuccessfully installed beautifulsoup4-4.9.1 text_hammer-0.1.5\n"
          ]
        }
      ],
      "source": [
        "!pip install text_hammer #Installing text hammer, a text preprocessing tool package by Python"
      ]
    },
    {
      "cell_type": "markdown",
      "source": [
        "Installing releveant modules and packages for data analysis and visualization using EDA\n"
      ],
      "metadata": {
        "id": "D5xqe4SumQDN"
      }
    },
    {
      "cell_type": "code",
      "source": [
        "import pandas as pd\n",
        "import numpy as np"
      ],
      "metadata": {
        "id": "8zZ-MNqBH-a9"
      },
      "execution_count": null,
      "outputs": []
    },
    {
      "cell_type": "code",
      "source": [
        "import matplotlib.pyplot as plt #library for data visualization\n",
        "from matplotlib import cm #matplotlib colormaps\n",
        "import warnings\n",
        "warnings.filterwarnings('ignore') #ignoring warnings messages by warning filters"
      ],
      "metadata": {
        "id": "U2SOvkm2IGfg"
      },
      "execution_count": null,
      "outputs": []
    },
    {
      "cell_type": "code",
      "source": [
        "import text_hammer as th"
      ],
      "metadata": {
        "id": "vRLHMGC5IOAg"
      },
      "execution_count": null,
      "outputs": []
    },
    {
      "cell_type": "code",
      "source": [
        "from google.colab import drive\n",
        "drive.mount('/content/drive/')"
      ],
      "metadata": {
        "colab": {
          "base_uri": "https://localhost:8080/"
        },
        "id": "nC4wWBCOIbK9",
        "outputId": "26842723-05f1-4297-fca1-bbb138e6f82c"
      },
      "execution_count": null,
      "outputs": [
        {
          "output_type": "stream",
          "name": "stdout",
          "text": [
            "Mounted at /content/drive/\n"
          ]
        }
      ]
    },
    {
      "cell_type": "code",
      "source": [
        "df=pd.read_csv('/content/drive/MyDrive/data.csv')"
      ],
      "metadata": {
        "id": "5Z8wwP-HIO67"
      },
      "execution_count": 6,
      "outputs": []
    },
    {
      "cell_type": "code",
      "source": [
        "df.head() #our dataset has two attributes"
      ],
      "metadata": {
        "colab": {
          "base_uri": "https://localhost:8080/",
          "height": 206
        },
        "id": "vy2VdfbFKBvf",
        "outputId": "55f85928-bb8b-4195-c162-196e87067754"
      },
      "execution_count": 7,
      "outputs": [
        {
          "output_type": "execute_result",
          "data": {
            "text/plain": [
              "                                            Sentence Sentiment\n",
              "0  The GeoSolutions technology will leverage Bene...  positive\n",
              "1  $ESI on lows, down $1.50 to $2.50 BK a real po...  negative\n",
              "2  For the last quarter of 2010 , Componenta 's n...  positive\n",
              "3  According to the Finnish-Russian Chamber of Co...   neutral\n",
              "4  The Swedish buyout firm has sold its remaining...   neutral"
            ],
            "text/html": [
              "\n",
              "\n",
              "  <div id=\"df-79939286-6a39-4d22-b234-a21b3e0031f8\">\n",
              "    <div class=\"colab-df-container\">\n",
              "      <div>\n",
              "<style scoped>\n",
              "    .dataframe tbody tr th:only-of-type {\n",
              "        vertical-align: middle;\n",
              "    }\n",
              "\n",
              "    .dataframe tbody tr th {\n",
              "        vertical-align: top;\n",
              "    }\n",
              "\n",
              "    .dataframe thead th {\n",
              "        text-align: right;\n",
              "    }\n",
              "</style>\n",
              "<table border=\"1\" class=\"dataframe\">\n",
              "  <thead>\n",
              "    <tr style=\"text-align: right;\">\n",
              "      <th></th>\n",
              "      <th>Sentence</th>\n",
              "      <th>Sentiment</th>\n",
              "    </tr>\n",
              "  </thead>\n",
              "  <tbody>\n",
              "    <tr>\n",
              "      <th>0</th>\n",
              "      <td>The GeoSolutions technology will leverage Bene...</td>\n",
              "      <td>positive</td>\n",
              "    </tr>\n",
              "    <tr>\n",
              "      <th>1</th>\n",
              "      <td>$ESI on lows, down $1.50 to $2.50 BK a real po...</td>\n",
              "      <td>negative</td>\n",
              "    </tr>\n",
              "    <tr>\n",
              "      <th>2</th>\n",
              "      <td>For the last quarter of 2010 , Componenta 's n...</td>\n",
              "      <td>positive</td>\n",
              "    </tr>\n",
              "    <tr>\n",
              "      <th>3</th>\n",
              "      <td>According to the Finnish-Russian Chamber of Co...</td>\n",
              "      <td>neutral</td>\n",
              "    </tr>\n",
              "    <tr>\n",
              "      <th>4</th>\n",
              "      <td>The Swedish buyout firm has sold its remaining...</td>\n",
              "      <td>neutral</td>\n",
              "    </tr>\n",
              "  </tbody>\n",
              "</table>\n",
              "</div>\n",
              "      <button class=\"colab-df-convert\" onclick=\"convertToInteractive('df-79939286-6a39-4d22-b234-a21b3e0031f8')\"\n",
              "              title=\"Convert this dataframe to an interactive table.\"\n",
              "              style=\"display:none;\">\n",
              "\n",
              "  <svg xmlns=\"http://www.w3.org/2000/svg\" height=\"24px\"viewBox=\"0 0 24 24\"\n",
              "       width=\"24px\">\n",
              "    <path d=\"M0 0h24v24H0V0z\" fill=\"none\"/>\n",
              "    <path d=\"M18.56 5.44l.94 2.06.94-2.06 2.06-.94-2.06-.94-.94-2.06-.94 2.06-2.06.94zm-11 1L8.5 8.5l.94-2.06 2.06-.94-2.06-.94L8.5 2.5l-.94 2.06-2.06.94zm10 10l.94 2.06.94-2.06 2.06-.94-2.06-.94-.94-2.06-.94 2.06-2.06.94z\"/><path d=\"M17.41 7.96l-1.37-1.37c-.4-.4-.92-.59-1.43-.59-.52 0-1.04.2-1.43.59L10.3 9.45l-7.72 7.72c-.78.78-.78 2.05 0 2.83L4 21.41c.39.39.9.59 1.41.59.51 0 1.02-.2 1.41-.59l7.78-7.78 2.81-2.81c.8-.78.8-2.07 0-2.86zM5.41 20L4 18.59l7.72-7.72 1.47 1.35L5.41 20z\"/>\n",
              "  </svg>\n",
              "      </button>\n",
              "\n",
              "\n",
              "\n",
              "    <div id=\"df-8723cc21-1b01-4fbc-9433-a109087a7f02\">\n",
              "      <button class=\"colab-df-quickchart\" onclick=\"quickchart('df-8723cc21-1b01-4fbc-9433-a109087a7f02')\"\n",
              "              title=\"Suggest charts.\"\n",
              "              style=\"display:none;\">\n",
              "\n",
              "<svg xmlns=\"http://www.w3.org/2000/svg\" height=\"24px\"viewBox=\"0 0 24 24\"\n",
              "     width=\"24px\">\n",
              "    <g>\n",
              "        <path d=\"M19 3H5c-1.1 0-2 .9-2 2v14c0 1.1.9 2 2 2h14c1.1 0 2-.9 2-2V5c0-1.1-.9-2-2-2zM9 17H7v-7h2v7zm4 0h-2V7h2v10zm4 0h-2v-4h2v4z\"/>\n",
              "    </g>\n",
              "</svg>\n",
              "      </button>\n",
              "    </div>\n",
              "\n",
              "<style>\n",
              "  .colab-df-quickchart {\n",
              "    background-color: #E8F0FE;\n",
              "    border: none;\n",
              "    border-radius: 50%;\n",
              "    cursor: pointer;\n",
              "    display: none;\n",
              "    fill: #1967D2;\n",
              "    height: 32px;\n",
              "    padding: 0 0 0 0;\n",
              "    width: 32px;\n",
              "  }\n",
              "\n",
              "  .colab-df-quickchart:hover {\n",
              "    background-color: #E2EBFA;\n",
              "    box-shadow: 0px 1px 2px rgba(60, 64, 67, 0.3), 0px 1px 3px 1px rgba(60, 64, 67, 0.15);\n",
              "    fill: #174EA6;\n",
              "  }\n",
              "\n",
              "  [theme=dark] .colab-df-quickchart {\n",
              "    background-color: #3B4455;\n",
              "    fill: #D2E3FC;\n",
              "  }\n",
              "\n",
              "  [theme=dark] .colab-df-quickchart:hover {\n",
              "    background-color: #434B5C;\n",
              "    box-shadow: 0px 1px 3px 1px rgba(0, 0, 0, 0.15);\n",
              "    filter: drop-shadow(0px 1px 2px rgba(0, 0, 0, 0.3));\n",
              "    fill: #FFFFFF;\n",
              "  }\n",
              "</style>\n",
              "\n",
              "    <script>\n",
              "      async function quickchart(key) {\n",
              "        const containerElement = document.querySelector('#' + key);\n",
              "        const charts = await google.colab.kernel.invokeFunction(\n",
              "            'suggestCharts', [key], {});\n",
              "      }\n",
              "    </script>\n",
              "\n",
              "      <script>\n",
              "\n",
              "function displayQuickchartButton(domScope) {\n",
              "  let quickchartButtonEl =\n",
              "    domScope.querySelector('#df-8723cc21-1b01-4fbc-9433-a109087a7f02 button.colab-df-quickchart');\n",
              "  quickchartButtonEl.style.display =\n",
              "    google.colab.kernel.accessAllowed ? 'block' : 'none';\n",
              "}\n",
              "\n",
              "        displayQuickchartButton(document);\n",
              "      </script>\n",
              "      <style>\n",
              "    .colab-df-container {\n",
              "      display:flex;\n",
              "      flex-wrap:wrap;\n",
              "      gap: 12px;\n",
              "    }\n",
              "\n",
              "    .colab-df-convert {\n",
              "      background-color: #E8F0FE;\n",
              "      border: none;\n",
              "      border-radius: 50%;\n",
              "      cursor: pointer;\n",
              "      display: none;\n",
              "      fill: #1967D2;\n",
              "      height: 32px;\n",
              "      padding: 0 0 0 0;\n",
              "      width: 32px;\n",
              "    }\n",
              "\n",
              "    .colab-df-convert:hover {\n",
              "      background-color: #E2EBFA;\n",
              "      box-shadow: 0px 1px 2px rgba(60, 64, 67, 0.3), 0px 1px 3px 1px rgba(60, 64, 67, 0.15);\n",
              "      fill: #174EA6;\n",
              "    }\n",
              "\n",
              "    [theme=dark] .colab-df-convert {\n",
              "      background-color: #3B4455;\n",
              "      fill: #D2E3FC;\n",
              "    }\n",
              "\n",
              "    [theme=dark] .colab-df-convert:hover {\n",
              "      background-color: #434B5C;\n",
              "      box-shadow: 0px 1px 3px 1px rgba(0, 0, 0, 0.15);\n",
              "      filter: drop-shadow(0px 1px 2px rgba(0, 0, 0, 0.3));\n",
              "      fill: #FFFFFF;\n",
              "    }\n",
              "  </style>\n",
              "\n",
              "      <script>\n",
              "        const buttonEl =\n",
              "          document.querySelector('#df-79939286-6a39-4d22-b234-a21b3e0031f8 button.colab-df-convert');\n",
              "        buttonEl.style.display =\n",
              "          google.colab.kernel.accessAllowed ? 'block' : 'none';\n",
              "\n",
              "        async function convertToInteractive(key) {\n",
              "          const element = document.querySelector('#df-79939286-6a39-4d22-b234-a21b3e0031f8');\n",
              "          const dataTable =\n",
              "            await google.colab.kernel.invokeFunction('convertToInteractive',\n",
              "                                                     [key], {});\n",
              "          if (!dataTable) return;\n",
              "\n",
              "          const docLinkHtml = 'Like what you see? Visit the ' +\n",
              "            '<a target=\"_blank\" href=https://colab.research.google.com/notebooks/data_table.ipynb>data table notebook</a>'\n",
              "            + ' to learn more about interactive tables.';\n",
              "          element.innerHTML = '';\n",
              "          dataTable['output_type'] = 'display_data';\n",
              "          await google.colab.output.renderOutput(dataTable, element);\n",
              "          const docLink = document.createElement('div');\n",
              "          docLink.innerHTML = docLinkHtml;\n",
              "          element.appendChild(docLink);\n",
              "        }\n",
              "      </script>\n",
              "    </div>\n",
              "  </div>\n"
            ]
          },
          "metadata": {},
          "execution_count": 7
        }
      ]
    },
    {
      "cell_type": "code",
      "source": [
        "import seaborn as sns #for graphs in data visualization with matplotlib and sns, estimate ratio of the data distribution\n",
        "\n",
        "sns.set_style('darkgrid')\n",
        "sns.histplot(x='Sentiment',data=df)\n",
        "plt.show()"
      ],
      "metadata": {
        "colab": {
          "base_uri": "https://localhost:8080/",
          "height": 449
        },
        "id": "rL9xwzfmKSB4",
        "outputId": "d2bca26f-9dda-4699-8ddc-1d18457cd613"
      },
      "execution_count": 8,
      "outputs": [
        {
          "output_type": "display_data",
          "data": {
            "text/plain": [
              "<Figure size 640x480 with 1 Axes>"
            ],
            "image/png": "[encoded data removed]"
          },
          "metadata": {}
        }
      ]
    },
    {
      "cell_type": "code",
      "source": [
        "df['len'] = list(map(lambda x: len(str(x).split(' ')),df['Sentence'])) #to preprocess text data, lambda function to avoid naming/defining seperate function for smaller tasks\n",
        "df.head()"
      ],
      "metadata": {
        "colab": {
          "base_uri": "https://localhost:8080/",
          "height": 206
        },
        "id": "jAkYTj-NKXgd",
        "outputId": "2332a1ec-604b-45cf-d7f0-fd0e86fe1824"
      },
      "execution_count": 9,
      "outputs": [
        {
          "output_type": "execute_result",
          "data": {
            "text/plain": [
              "                                            Sentence Sentiment  len\n",
              "0  The GeoSolutions technology will leverage Bene...  positive   32\n",
              "1  $ESI on lows, down $1.50 to $2.50 BK a real po...  negative   11\n",
              "2  For the last quarter of 2010 , Componenta 's n...  positive   39\n",
              "3  According to the Finnish-Russian Chamber of Co...   neutral   20\n",
              "4  The Swedish buyout firm has sold its remaining...   neutral   23"
            ],
            "text/html": [
              "\n",
              "\n",
              "  <div id=\"df-953cec31-ef60-4474-bf54-ad906ea7070c\">\n",
              "    <div class=\"colab-df-container\">\n",
              "      <div>\n",
              "<style scoped>\n",
              "    .dataframe tbody tr th:only-of-type {\n",
              "        vertical-align: middle;\n",
              "    }\n",
              "\n",
              "    .dataframe tbody tr th {\n",
              "        vertical-align: top;\n",
              "    }\n",
              "\n",
              "    .dataframe thead th {\n",
              "        text-align: right;\n",
              "    }\n",
              "</style>\n",
              "<table border=\"1\" class=\"dataframe\">\n",
              "  <thead>\n",
              "    <tr style=\"text-align: right;\">\n",
              "      <th></th>\n",
              "      <th>Sentence</th>\n",
              "      <th>Sentiment</th>\n",
              "      <th>len</th>\n",
              "    </tr>\n",
              "  </thead>\n",
              "  <tbody>\n",
              "    <tr>\n",
              "      <th>0</th>\n",
              "      <td>The GeoSolutions technology will leverage Bene...</td>\n",
              "      <td>positive</td>\n",
              "      <td>32</td>\n",
              "    </tr>\n",
              "    <tr>\n",
              "      <th>1</th>\n",
              "      <td>$ESI on lows, down $1.50 to $2.50 BK a real po...</td>\n",
              "      <td>negative</td>\n",
              "      <td>11</td>\n",
              "    </tr>\n",
              "    <tr>\n",
              "      <th>2</th>\n",
              "      <td>For the last quarter of 2010 , Componenta 's n...</td>\n",
              "      <td>positive</td>\n",
              "      <td>39</td>\n",
              "    </tr>\n",
              "    <tr>\n",
              "      <th>3</th>\n",
              "      <td>According to the Finnish-Russian Chamber of Co...</td>\n",
              "      <td>neutral</td>\n",
              "      <td>20</td>\n",
              "    </tr>\n",
              "    <tr>\n",
              "      <th>4</th>\n",
              "      <td>The Swedish buyout firm has sold its remaining...</td>\n",
              "      <td>neutral</td>\n",
              "      <td>23</td>\n",
              "    </tr>\n",
              "  </tbody>\n",
              "</table>\n",
              "</div>\n",
              "      <button class=\"colab-df-convert\" onclick=\"convertToInteractive('df-953cec31-ef60-4474-bf54-ad906ea7070c')\"\n",
              "              title=\"Convert this dataframe to an interactive table.\"\n",
              "              style=\"display:none;\">\n",
              "\n",
              "  <svg xmlns=\"http://www.w3.org/2000/svg\" height=\"24px\"viewBox=\"0 0 24 24\"\n",
              "       width=\"24px\">\n",
              "    <path d=\"M0 0h24v24H0V0z\" fill=\"none\"/>\n",
              "    <path d=\"M18.56 5.44l.94 2.06.94-2.06 2.06-.94-2.06-.94-.94-2.06-.94 2.06-2.06.94zm-11 1L8.5 8.5l.94-2.06 2.06-.94-2.06-.94L8.5 2.5l-.94 2.06-2.06.94zm10 10l.94 2.06.94-2.06 2.06-.94-2.06-.94-.94-2.06-.94 2.06-2.06.94z\"/><path d=\"M17.41 7.96l-1.37-1.37c-.4-.4-.92-.59-1.43-.59-.52 0-1.04.2-1.43.59L10.3 9.45l-7.72 7.72c-.78.78-.78 2.05 0 2.83L4 21.41c.39.39.9.59 1.41.59.51 0 1.02-.2 1.41-.59l7.78-7.78 2.81-2.81c.8-.78.8-2.07 0-2.86zM5.41 20L4 18.59l7.72-7.72 1.47 1.35L5.41 20z\"/>\n",
              "  </svg>\n",
              "      </button>\n",
              "\n",
              "\n",
              "\n",
              "    <div id=\"df-69444ed3-a8fc-49d8-8790-fa29b0f8630f\">\n",
              "      <button class=\"colab-df-quickchart\" onclick=\"quickchart('df-69444ed3-a8fc-49d8-8790-fa29b0f8630f')\"\n",
              "              title=\"Suggest charts.\"\n",
              "              style=\"display:none;\">\n",
              "\n",
              "<svg xmlns=\"http://www.w3.org/2000/svg\" height=\"24px\"viewBox=\"0 0 24 24\"\n",
              "     width=\"24px\">\n",
              "    <g>\n",
              "        <path d=\"M19 3H5c-1.1 0-2 .9-2 2v14c0 1.1.9 2 2 2h14c1.1 0 2-.9 2-2V5c0-1.1-.9-2-2-2zM9 17H7v-7h2v7zm4 0h-2V7h2v10zm4 0h-2v-4h2v4z\"/>\n",
              "    </g>\n",
              "</svg>\n",
              "      </button>\n",
              "    </div>\n",
              "\n",
              "<style>\n",
              "  .colab-df-quickchart {\n",
              "    background-color: #E8F0FE;\n",
              "    border: none;\n",
              "    border-radius: 50%;\n",
              "    cursor: pointer;\n",
              "    display: none;\n",
              "    fill: #1967D2;\n",
              "    height: 32px;\n",
              "    padding: 0 0 0 0;\n",
              "    width: 32px;\n",
              "  }\n",
              "\n",
              "  .colab-df-quickchart:hover {\n",
              "    background-color: #E2EBFA;\n",
              "    box-shadow: 0px 1px 2px rgba(60, 64, 67, 0.3), 0px 1px 3px 1px rgba(60, 64, 67, 0.15);\n",
              "    fill: #174EA6;\n",
              "  }\n",
              "\n",
              "  [theme=dark] .colab-df-quickchart {\n",
              "    background-color: #3B4455;\n",
              "    fill: #D2E3FC;\n",
              "  }\n",
              "\n",
              "  [theme=dark] .colab-df-quickchart:hover {\n",
              "    background-color: #434B5C;\n",
              "    box-shadow: 0px 1px 3px 1px rgba(0, 0, 0, 0.15);\n",
              "    filter: drop-shadow(0px 1px 2px rgba(0, 0, 0, 0.3));\n",
              "    fill: #FFFFFF;\n",
              "  }\n",
              "</style>\n",
              "\n",
              "    <script>\n",
              "      async function quickchart(key) {\n",
              "        const containerElement = document.querySelector('#' + key);\n",
              "        const charts = await google.colab.kernel.invokeFunction(\n",
              "            'suggestCharts', [key], {});\n",
              "      }\n",
              "    </script>\n",
              "\n",
              "      <script>\n",
              "\n",
              "function displayQuickchartButton(domScope) {\n",
              "  let quickchartButtonEl =\n",
              "    domScope.querySelector('#df-69444ed3-a8fc-49d8-8790-fa29b0f8630f button.colab-df-quickchart');\n",
              "  quickchartButtonEl.style.display =\n",
              "    google.colab.kernel.accessAllowed ? 'block' : 'none';\n",
              "}\n",
              "\n",
              "        displayQuickchartButton(document);\n",
              "      </script>\n",
              "      <style>\n",
              "    .colab-df-container {\n",
              "      display:flex;\n",
              "      flex-wrap:wrap;\n",
              "      gap: 12px;\n",
              "    }\n",
              "\n",
              "    .colab-df-convert {\n",
              "      background-color: #E8F0FE;\n",
              "      border: none;\n",
              "      border-radius: 50%;\n",
              "      cursor: pointer;\n",
              "      display: none;\n",
              "      fill: #1967D2;\n",
              "      height: 32px;\n",
              "      padding: 0 0 0 0;\n",
              "      width: 32px;\n",
              "    }\n",
              "\n",
              "    .colab-df-convert:hover {\n",
              "      background-color: #E2EBFA;\n",
              "      box-shadow: 0px 1px 2px rgba(60, 64, 67, 0.3), 0px 1px 3px 1px rgba(60, 64, 67, 0.15);\n",
              "      fill: #174EA6;\n",
              "    }\n",
              "\n",
              "    [theme=dark] .colab-df-convert {\n",
              "      background-color: #3B4455;\n",
              "      fill: #D2E3FC;\n",
              "    }\n",
              "\n",
              "    [theme=dark] .colab-df-convert:hover {\n",
              "      background-color: #434B5C;\n",
              "      box-shadow: 0px 1px 3px 1px rgba(0, 0, 0, 0.15);\n",
              "      filter: drop-shadow(0px 1px 2px rgba(0, 0, 0, 0.3));\n",
              "      fill: #FFFFFF;\n",
              "    }\n",
              "  </style>\n",
              "\n",
              "      <script>\n",
              "        const buttonEl =\n",
              "          document.querySelector('#df-953cec31-ef60-4474-bf54-ad906ea7070c button.colab-df-convert');\n",
              "        buttonEl.style.display =\n",
              "          google.colab.kernel.accessAllowed ? 'block' : 'none';\n",
              "\n",
              "        async function convertToInteractive(key) {\n",
              "          const element = document.querySelector('#df-953cec31-ef60-4474-bf54-ad906ea7070c');\n",
              "          const dataTable =\n",
              "            await google.colab.kernel.invokeFunction('convertToInteractive',\n",
              "                                                     [key], {});\n",
              "          if (!dataTable) return;\n",
              "\n",
              "          const docLinkHtml = 'Like what you see? Visit the ' +\n",
              "            '<a target=\"_blank\" href=https://colab.research.google.com/notebooks/data_table.ipynb>data table notebook</a>'\n",
              "            + ' to learn more about interactive tables.';\n",
              "          element.innerHTML = '';\n",
              "          dataTable['output_type'] = 'display_data';\n",
              "          await google.colab.output.renderOutput(dataTable, element);\n",
              "          const docLink = document.createElement('div');\n",
              "          docLink.innerHTML = docLinkHtml;\n",
              "          element.appendChild(docLink);\n",
              "        }\n",
              "      </script>\n",
              "    </div>\n",
              "  </div>\n"
            ]
          },
          "metadata": {},
          "execution_count": 9
        }
      ]
    },
    {
      "cell_type": "code",
      "source": [
        "sns.kdeplot(x='len',hue='Sentiment',data=df) #visualiizing the ratio of density of characters to express sentiments by the users\n",
        "plt.show()"
      ],
      "metadata": {
        "colab": {
          "base_uri": "https://localhost:8080/",
          "height": 449
        },
        "id": "NQnmc3VTKbYf",
        "outputId": "0ab93a0d-9f32-4c2f-8a07-cc605b6776c4"
      },
      "execution_count": 10,
      "outputs": [
        {
          "output_type": "display_data",
          "data": {
            "text/plain": [
              "<Figure size 640x480 with 1 Axes>"
            ],
            "image/png": "[encoded data removed]"
          },
          "metadata": {}
        }
      ]
    },
    {
      "cell_type": "code",
      "source": [
        "mapdf = {'positive':0,'negative':1,'neutral':2} #label encoding for catalysing the text preprocessing task\n",
        "df['Sentiment'] = list(map(lambda x:mapdf[x],df['Sentiment']))\n",
        "df.head()"
      ],
      "metadata": {
        "colab": {
          "base_uri": "https://localhost:8080/",
          "height": 206
        },
        "id": "AIol0T3UKhNy",
        "outputId": "dc2ae747-2522-4ab2-be98-85e0fc14314d"
      },
      "execution_count": 11,
      "outputs": [
        {
          "output_type": "execute_result",
          "data": {
            "text/plain": [
              "                                            Sentence  Sentiment  len\n",
              "0  The GeoSolutions technology will leverage Bene...          0   32\n",
              "1  $ESI on lows, down $1.50 to $2.50 BK a real po...          1   11\n",
              "2  For the last quarter of 2010 , Componenta 's n...          0   39\n",
              "3  According to the Finnish-Russian Chamber of Co...          2   20\n",
              "4  The Swedish buyout firm has sold its remaining...          2   23"
            ],
            "text/html": [
              "\n",
              "\n",
              "  <div id=\"df-72b23082-4b5c-4956-8e5c-bcee3c6b5981\">\n",
              "    <div class=\"colab-df-container\">\n",
              "      <div>\n",
              "<style scoped>\n",
              "    .dataframe tbody tr th:only-of-type {\n",
              "        vertical-align: middle;\n",
              "    }\n",
              "\n",
              "    .dataframe tbody tr th {\n",
              "        vertical-align: top;\n",
              "    }\n",
              "\n",
              "    .dataframe thead th {\n",
              "        text-align: right;\n",
              "    }\n",
              "</style>\n",
              "<table border=\"1\" class=\"dataframe\">\n",
              "  <thead>\n",
              "    <tr style=\"text-align: right;\">\n",
              "      <th></th>\n",
              "      <th>Sentence</th>\n",
              "      <th>Sentiment</th>\n",
              "      <th>len</th>\n",
              "    </tr>\n",
              "  </thead>\n",
              "  <tbody>\n",
              "    <tr>\n",
              "      <th>0</th>\n",
              "      <td>The GeoSolutions technology will leverage Bene...</td>\n",
              "      <td>0</td>\n",
              "      <td>32</td>\n",
              "    </tr>\n",
              "    <tr>\n",
              "      <th>1</th>\n",
              "      <td>$ESI on lows, down $1.50 to $2.50 BK a real po...</td>\n",
              "      <td>1</td>\n",
              "      <td>11</td>\n",
              "    </tr>\n",
              "    <tr>\n",
              "      <th>2</th>\n",
              "      <td>For the last quarter of 2010 , Componenta 's n...</td>\n",
              "      <td>0</td>\n",
              "      <td>39</td>\n",
              "    </tr>\n",
              "    <tr>\n",
              "      <th>3</th>\n",
              "      <td>According to the Finnish-Russian Chamber of Co...</td>\n",
              "      <td>2</td>\n",
              "      <td>20</td>\n",
              "    </tr>\n",
              "    <tr>\n",
              "      <th>4</th>\n",
              "      <td>The Swedish buyout firm has sold its remaining...</td>\n",
              "      <td>2</td>\n",
              "      <td>23</td>\n",
              "    </tr>\n",
              "  </tbody>\n",
              "</table>\n",
              "</div>\n",
              "      <button class=\"colab-df-convert\" onclick=\"convertToInteractive('df-72b23082-4b5c-4956-8e5c-bcee3c6b5981')\"\n",
              "              title=\"Convert this dataframe to an interactive table.\"\n",
              "              style=\"display:none;\">\n",
              "\n",
              "  <svg xmlns=\"http://www.w3.org/2000/svg\" height=\"24px\"viewBox=\"0 0 24 24\"\n",
              "       width=\"24px\">\n",
              "    <path d=\"M0 0h24v24H0V0z\" fill=\"none\"/>\n",
              "    <path d=\"M18.56 5.44l.94 2.06.94-2.06 2.06-.94-2.06-.94-.94-2.06-.94 2.06-2.06.94zm-11 1L8.5 8.5l.94-2.06 2.06-.94-2.06-.94L8.5 2.5l-.94 2.06-2.06.94zm10 10l.94 2.06.94-2.06 2.06-.94-2.06-.94-.94-2.06-.94 2.06-2.06.94z\"/><path d=\"M17.41 7.96l-1.37-1.37c-.4-.4-.92-.59-1.43-.59-.52 0-1.04.2-1.43.59L10.3 9.45l-7.72 7.72c-.78.78-.78 2.05 0 2.83L4 21.41c.39.39.9.59 1.41.59.51 0 1.02-.2 1.41-.59l7.78-7.78 2.81-2.81c.8-.78.8-2.07 0-2.86zM5.41 20L4 18.59l7.72-7.72 1.47 1.35L5.41 20z\"/>\n",
              "  </svg>\n",
              "      </button>\n",
              "\n",
              "\n",
              "\n",
              "    <div id=\"df-74ed252b-b566-4793-91b6-ba75be46c0ce\">\n",
              "      <button class=\"colab-df-quickchart\" onclick=\"quickchart('df-74ed252b-b566-4793-91b6-ba75be46c0ce')\"\n",
              "              title=\"Suggest charts.\"\n",
              "              style=\"display:none;\">\n",
              "\n",
              "<svg xmlns=\"http://www.w3.org/2000/svg\" height=\"24px\"viewBox=\"0 0 24 24\"\n",
              "     width=\"24px\">\n",
              "    <g>\n",
              "        <path d=\"M19 3H5c-1.1 0-2 .9-2 2v14c0 1.1.9 2 2 2h14c1.1 0 2-.9 2-2V5c0-1.1-.9-2-2-2zM9 17H7v-7h2v7zm4 0h-2V7h2v10zm4 0h-2v-4h2v4z\"/>\n",
              "    </g>\n",
              "</svg>\n",
              "      </button>\n",
              "    </div>\n",
              "\n",
              "<style>\n",
              "  .colab-df-quickchart {\n",
              "    background-color: #E8F0FE;\n",
              "    border: none;\n",
              "    border-radius: 50%;\n",
              "    cursor: pointer;\n",
              "    display: none;\n",
              "    fill: #1967D2;\n",
              "    height: 32px;\n",
              "    padding: 0 0 0 0;\n",
              "    width: 32px;\n",
              "  }\n",
              "\n",
              "  .colab-df-quickchart:hover {\n",
              "    background-color: #E2EBFA;\n",
              "    box-shadow: 0px 1px 2px rgba(60, 64, 67, 0.3), 0px 1px 3px 1px rgba(60, 64, 67, 0.15);\n",
              "    fill: #174EA6;\n",
              "  }\n",
              "\n",
              "  [theme=dark] .colab-df-quickchart {\n",
              "    background-color: #3B4455;\n",
              "    fill: #D2E3FC;\n",
              "  }\n",
              "\n",
              "  [theme=dark] .colab-df-quickchart:hover {\n",
              "    background-color: #434B5C;\n",
              "    box-shadow: 0px 1px 3px 1px rgba(0, 0, 0, 0.15);\n",
              "    filter: drop-shadow(0px 1px 2px rgba(0, 0, 0, 0.3));\n",
              "    fill: #FFFFFF;\n",
              "  }\n",
              "</style>\n",
              "\n",
              "    <script>\n",
              "      async function quickchart(key) {\n",
              "        const containerElement = document.querySelector('#' + key);\n",
              "        const charts = await google.colab.kernel.invokeFunction(\n",
              "            'suggestCharts', [key], {});\n",
              "      }\n",
              "    </script>\n",
              "\n",
              "      <script>\n",
              "\n",
              "function displayQuickchartButton(domScope) {\n",
              "  let quickchartButtonEl =\n",
              "    domScope.querySelector('#df-74ed252b-b566-4793-91b6-ba75be46c0ce button.colab-df-quickchart');\n",
              "  quickchartButtonEl.style.display =\n",
              "    google.colab.kernel.accessAllowed ? 'block' : 'none';\n",
              "}\n",
              "\n",
              "        displayQuickchartButton(document);\n",
              "      </script>\n",
              "      <style>\n",
              "    .colab-df-container {\n",
              "      display:flex;\n",
              "      flex-wrap:wrap;\n",
              "      gap: 12px;\n",
              "    }\n",
              "\n",
              "    .colab-df-convert {\n",
              "      background-color: #E8F0FE;\n",
              "      border: none;\n",
              "      border-radius: 50%;\n",
              "      cursor: pointer;\n",
              "      display: none;\n",
              "      fill: #1967D2;\n",
              "      height: 32px;\n",
              "      padding: 0 0 0 0;\n",
              "      width: 32px;\n",
              "    }\n",
              "\n",
              "    .colab-df-convert:hover {\n",
              "      background-color: #E2EBFA;\n",
              "      box-shadow: 0px 1px 2px rgba(60, 64, 67, 0.3), 0px 1px 3px 1px rgba(60, 64, 67, 0.15);\n",
              "      fill: #174EA6;\n",
              "    }\n",
              "\n",
              "    [theme=dark] .colab-df-convert {\n",
              "      background-color: #3B4455;\n",
              "      fill: #D2E3FC;\n",
              "    }\n",
              "\n",
              "    [theme=dark] .colab-df-convert:hover {\n",
              "      background-color: #434B5C;\n",
              "      box-shadow: 0px 1px 3px 1px rgba(0, 0, 0, 0.15);\n",
              "      filter: drop-shadow(0px 1px 2px rgba(0, 0, 0, 0.3));\n",
              "      fill: #FFFFFF;\n",
              "    }\n",
              "  </style>\n",
              "\n",
              "      <script>\n",
              "        const buttonEl =\n",
              "          document.querySelector('#df-72b23082-4b5c-4956-8e5c-bcee3c6b5981 button.colab-df-convert');\n",
              "        buttonEl.style.display =\n",
              "          google.colab.kernel.accessAllowed ? 'block' : 'none';\n",
              "\n",
              "        async function convertToInteractive(key) {\n",
              "          const element = document.querySelector('#df-72b23082-4b5c-4956-8e5c-bcee3c6b5981');\n",
              "          const dataTable =\n",
              "            await google.colab.kernel.invokeFunction('convertToInteractive',\n",
              "                                                     [key], {});\n",
              "          if (!dataTable) return;\n",
              "\n",
              "          const docLinkHtml = 'Like what you see? Visit the ' +\n",
              "            '<a target=\"_blank\" href=https://colab.research.google.com/notebooks/data_table.ipynb>data table notebook</a>'\n",
              "            + ' to learn more about interactive tables.';\n",
              "          element.innerHTML = '';\n",
              "          dataTable['output_type'] = 'display_data';\n",
              "          await google.colab.output.renderOutput(dataTable, element);\n",
              "          const docLink = document.createElement('div');\n",
              "          docLink.innerHTML = docLinkHtml;\n",
              "          element.appendChild(docLink);\n",
              "        }\n",
              "      </script>\n",
              "    </div>\n",
              "  </div>\n"
            ]
          },
          "metadata": {},
          "execution_count": 11
        }
      ]
    },
    {
      "cell_type": "code",
      "source": [
        "print(df['Sentiment'].corr(df['len'])) #positive correlation implying skewed data with positive relationship between number of words as comment vs the sentiment being expressed"
      ],
      "metadata": {
        "colab": {
          "base_uri": "https://localhost:8080/"
        },
        "id": "tHQWYgyMKnAb",
        "outputId": "5c1151d9-7661-4aa2-f8b9-41e8e351a83a"
      },
      "execution_count": 12,
      "outputs": [
        {
          "output_type": "stream",
          "name": "stdout",
          "text": [
            "0.10137114484667775\n"
          ]
        }
      ]
    },
    {
      "cell_type": "code",
      "source": [
        "sentences = df['Sentence'].copy()[:] #cleaning the text data to have clear analysis, removing noise such as html tags, continued expressions cont_exp such as I'm to I am, special OR ACCENTED characters and stop words\n",
        "sentences = sentences.to_list()\n",
        "sentences = list(map(lambda x: x.lower(),sentences))\n",
        "sentences = list(map(lambda x: th.cont_exp(x),sentences))\n",
        "sentences = list(map(lambda x: th.remove_emails(x),sentences))\n",
        "sentences = list(map(lambda x: th.remove_html_tags(x),sentences))\n",
        "sentences = list(map(lambda x: th.remove_stopwords(x),sentences))\n",
        "sentences = list(map(lambda x: th.remove_special_chars(x),sentences))\n",
        "sentences = list(map(lambda x: th.remove_accented_chars(x),sentences))\n",
        "sentences = list(map(lambda x: th.make_base(x),sentences))"
      ],
      "metadata": {
        "id": "FcoDIhnmKryZ"
      },
      "execution_count": 13,
      "outputs": []
    },
    {
      "cell_type": "code",
      "source": [
        "!pip install nltk #installing the natural language toolkit for NLP tasks such as classification, tokenization, stemming, tagging, parsing, & semantic reasoning"
      ],
      "metadata": {
        "colab": {
          "base_uri": "https://localhost:8080/"
        },
        "id": "nDnAssRhLppU",
        "outputId": "0b1b3c64-bcfd-47fe-f68a-64179dab4eb3"
      },
      "execution_count": 18,
      "outputs": [
        {
          "output_type": "stream",
          "name": "stdout",
          "text": [
            "Requirement already satisfied: nltk in /usr/local/lib/python3.10/dist-packages (3.8.1)\n",
            "Requirement already satisfied: click in /usr/local/lib/python3.10/dist-packages (from nltk) (8.1.4)\n",
            "Requirement already satisfied: joblib in /usr/local/lib/python3.10/dist-packages (from nltk) (1.3.1)\n",
            "Requirement already satisfied: regex>=2021.8.3 in /usr/local/lib/python3.10/dist-packages (from nltk) (2022.10.31)\n",
            "Requirement already satisfied: tqdm in /usr/local/lib/python3.10/dist-packages (from nltk) (4.65.0)\n"
          ]
        }
      ]
    },
    {
      "cell_type": "code",
      "source": [
        "import nltk\n",
        "\n",
        "nltk.download('punkt') #to have parameters from a corpus in an unsupervised way related to the target domain, such as a list of abbreviations, and acronyms\n",
        "from tqdm import tqdm_notebook as tqdm #using tqdm python for having a progress meter or progress bar for the loops/iterations\n",
        "\n",
        "pairs = []\n",
        "for sent in tqdm(sentences):\n",
        "    pairs.extend(nltk.word_tokenize(sent))\n",
        "freq = nltk.FreqDist(pairs)\n",
        "freq.most_common(10) #most commonly used words throughoyt the dataset of the market"
      ],
      "metadata": {
        "colab": {
          "base_uri": "https://localhost:8080/",
          "height": 257,
          "referenced_widgets": [
            "07bbeb118d2a4a95a21d46ebb3a1a66d",
            "1b2bb51997b2400f8ac8a5b9af87a327",
            "6598e83d5e2e4cd8a0258b618d1d22a7",
            "f14ff35476e64cef95a100abe51d804d",
            "d9c33d7451654e13a081e73299b5b0e5",
            "11e78efd2aa54cd993adaa255946d1a1",
            "51d73a042a0a44bca0b9f5d0512604e7",
            "c56fd5a91cf24b4ba42b3e12c7155910",
            "61b0f3f6100546fda69c63526fdf261e",
            "29db02c056134c3b848bddb9567435e9",
            "b86e3024c9504d4d96827553402ef327"
          ]
        },
        "id": "36imoYTVKyiQ",
        "outputId": "991cf3d2-fc42-43be-9352-30a8d7ff0335"
      },
      "execution_count": 20,
      "outputs": [
        {
          "output_type": "stream",
          "name": "stderr",
          "text": [
            "[nltk_data] Downloading package punkt to /root/nltk_data...\n",
            "[nltk_data]   Unzipping tokenizers/punkt.zip.\n"
          ]
        },
        {
          "output_type": "display_data",
          "data": {
            "text/plain": [
              "  0%|          | 0/5842 [00:00<?, ?it/s]"
            ],
            "application/vnd.jupyter.widget-view+json": {
              "version_major": 2,
              "version_minor": 0,
              "model_id": "07bbeb118d2a4a95a21d46ebb3a1a66d"
            }
          },
          "metadata": {}
        },
        {
          "output_type": "execute_result",
          "data": {
            "text/plain": [
              "[('eur', 1284),\n",
              " ('company', 916),\n",
              " ('mn', 729),\n",
              " ('sale', 607),\n",
              " ('profit', 584),\n",
              " ('say', 574),\n",
              " ('finnish', 527),\n",
              " ('share', 514),\n",
              " ('net', 499),\n",
              " ('million', 493)]"
            ]
          },
          "metadata": {},
          "execution_count": 20
        }
      ]
    },
    {
      "cell_type": "code",
      "source": [
        "tempdf = pd.DataFrame(freq.most_common(10),  columns=['word', 'count']) #visualizing the occurance of the most used words\n",
        "sns.barplot(x='word',y='count',data=tempdf)\n",
        "plt.title(\"Top 10 words\")\n",
        "plt.show()"
      ],
      "metadata": {
        "colab": {
          "base_uri": "https://localhost:8080/",
          "height": 472
        },
        "id": "FWNcClRPL6DK",
        "outputId": "1f9f5cf8-23b7-455e-e315-a87e2f6ed0ef"
      },
      "execution_count": 21,
      "outputs": [
        {
          "output_type": "display_data",
          "data": {
            "text/plain": [
              "<Figure size 640x480 with 1 Axes>"
            ],
            "image/png": "[encoded data removed]"
          },
          "metadata": {}
        }
      ]
    },
    {
      "cell_type": "code",
      "source": [
        "!pip install keras #to have state-of-the-art preset weights and architectures for our deep learning model"
      ],
      "metadata": {
        "colab": {
          "base_uri": "https://localhost:8080/"
        },
        "id": "4h_Tzl9UMW2B",
        "outputId": "f450d8c9-41e1-4ab7-9292-0ff04d066c1b"
      },
      "execution_count": 23,
      "outputs": [
        {
          "output_type": "stream",
          "name": "stdout",
          "text": [
            "Requirement already satisfied: keras in /usr/local/lib/python3.10/dist-packages (2.12.0)\n"
          ]
        }
      ]
    },
    {
      "cell_type": "code",
      "source": [
        "from sklearn.model_selection import train_test_split\n",
        "# from keras.utils.all_utils import to_categorical\n",
        "from tensorflow.python.keras.utils.np_utils import to_categorical #update of keras and tensorflow\n",
        "\n",
        "x = sentences.copy()\n",
        "y = to_categorical(df['Sentiment'])\n",
        "X_train,X_test, y_train,y_test = train_test_split(x,y,test_size=0.3,stratify=y,random_state=42) #splitting the training and testing dataset"
      ],
      "metadata": {
        "id": "3zKT1XcsMHjC"
      },
      "execution_count": 26,
      "outputs": []
    },
    {
      "cell_type": "code",
      "source": [
        "from keras.preprocessing.text import Tokenizer #for word tokenization and detokenization\n",
        "\n",
        "\n",
        "num_words = 12000 #Only the most frequent num_words words will be kept, the rest will be discarded, defining the maximum number of words to consider\n",
        "tokenizer=Tokenizer(num_words,lower=True) #all text would be converted to lowercase\n",
        "\n",
        "df_total = pd.concat([pd.Series(X_train), pd.Series(X_test)], axis = 0)\n",
        "tokenizer.fit_on_texts(df_total)"
      ],
      "metadata": {
        "id": "WQpOTQGkMHWx"
      },
      "execution_count": 27,
      "outputs": []
    },
    {
      "cell_type": "code",
      "source": [
        "# from keras.preprocessing.sequence import pad_sequences\n",
        "from tensorflow.keras.preprocessing.sequence import pad_sequences #to ensure all the inputs are of fixed dimensions using padding\n",
        "\n",
        "X_train_ =tokenizer.texts_to_sequences(X_train)\n",
        "X_train_pad=pad_sequences(X_train_, maxlen=81, padding='post')\n",
        "X_test_ = tokenizer.texts_to_sequences(X_test)\n",
        "X_test_pad = pad_sequences(X_test_, maxlen = 81, padding = 'post')"
      ],
      "metadata": {
        "id": "r-1JHelZNCq0"
      },
      "execution_count": 30,
      "outputs": []
    },
    {
      "cell_type": "code",
      "source": [
        "print(X_train_pad.shape,X_test_pad.shape)"
      ],
      "metadata": {
        "colab": {
          "base_uri": "https://localhost:8080/"
        },
        "id": "g5o4weHGNc5f",
        "outputId": "adb99c80-d4e0-4dac-9cbc-692fa1f1dc73"
      },
      "execution_count": 31,
      "outputs": [
        {
          "output_type": "stream",
          "name": "stdout",
          "text": [
            "(4089, 81) (1753, 81)\n"
          ]
        }
      ]
    },
    {
      "cell_type": "code",
      "source": [
        "from keras.models import Sequential\n",
        "from keras.layers import LSTM,Dense,Bidirectional,Embedding,Dropout #for layers of the neural network"
      ],
      "metadata": {
        "id": "6Uf4i2FaNc2G"
      },
      "execution_count": 32,
      "outputs": []
    },
    {
      "cell_type": "markdown",
      "source": [
        "First Model: LSTM with 3 drop out layers, 3 bidirectional Layers and 4 dense layers"
      ],
      "metadata": {
        "id": "ByjA1UhD2HKj"
      }
    },
    {
      "cell_type": "code",
      "source": [
        "lstm = Sequential()\n",
        "lstm.add(Embedding(input_dim = num_words, output_dim = 100, input_length= X_train_pad.shape[1]))\n",
        "\n",
        "lstm.add(Dropout(0.2)) #to prevent overfitting\n",
        "lstm.add(Bidirectional(LSTM(128,return_sequences=True)))\n",
        "lstm.add(Dropout(0.2))\n",
        "lstm.add(Bidirectional(LSTM(256,return_sequences=True)))\n",
        "lstm.add(Dropout(0.2))\n",
        "lstm.add(Bidirectional(LSTM(128,return_sequences=False)))\n",
        "lstm.add(Dense(64,activation='tanh'))\n",
        "lstm.add(Dense(32,activation='tanh'))\n",
        "lstm.add(Dense(10,activation='tanh'))\n",
        "lstm.add(Dense(3,activation='softmax')) # for non-linear transformatio=n"
      ],
      "metadata": {
        "id": "cZ22dC7TNczE"
      },
      "execution_count": 33,
      "outputs": []
    },
    {
      "cell_type": "code",
      "source": [
        "lstm.compile(optimizer='adam',loss='categorical_crossentropy',metrics=['accuracy']) #compiling the model using Adam optimizer"
      ],
      "metadata": {
        "id": "RIfqGRXaNcwb"
      },
      "execution_count": 34,
      "outputs": []
    },
    {
      "cell_type": "code",
      "source": [
        "lstm.summary()"
      ],
      "metadata": {
        "colab": {
          "base_uri": "https://localhost:8080/"
        },
        "id": "I9T-ZGsZNctI",
        "outputId": "e896dc17-0c69-43c9-99eb-ad26faa8d08d"
      },
      "execution_count": 35,
      "outputs": [
        {
          "output_type": "stream",
          "name": "stdout",
          "text": [
            "Model: \"sequential\"\n",
            "_________________________________________________________________\n",
            " Layer (type)                Output Shape              Param #   \n",
            "=================================================================\n",
            " embedding (Embedding)       (None, 81, 100)           1200000   \n",
            "                                                                 \n",
            " dropout (Dropout)           (None, 81, 100)           0         \n",
            "                                                                 \n",
            " bidirectional (Bidirectiona  (None, 81, 256)          234496    \n",
            " l)                                                              \n",
            "                                                                 \n",
            " dropout_1 (Dropout)         (None, 81, 256)           0         \n",
            "                                                                 \n",
            " bidirectional_1 (Bidirectio  (None, 81, 512)          1050624   \n",
            " nal)                                                            \n",
            "                                                                 \n",
            " dropout_2 (Dropout)         (None, 81, 512)           0         \n",
            "                                                                 \n",
            " bidirectional_2 (Bidirectio  (None, 256)              656384    \n",
            " nal)                                                            \n",
            "                                                                 \n",
            " dense (Dense)               (None, 64)                16448     \n",
            "                                                                 \n",
            " dense_1 (Dense)             (None, 32)                2080      \n",
            "                                                                 \n",
            " dense_2 (Dense)             (None, 10)                330       \n",
            "                                                                 \n",
            " dense_3 (Dense)             (None, 3)                 33        \n",
            "                                                                 \n",
            "=================================================================\n",
            "Total params: 3,160,395\n",
            "Trainable params: 3,160,395\n",
            "Non-trainable params: 0\n",
            "_________________________________________________________________\n"
          ]
        }
      ]
    },
    {
      "cell_type": "code",
      "source": [
        "from keras.callbacks import EarlyStopping, ModelCheckpoint #creating checkpoints\n",
        "\n",
        "es = EarlyStopping(monitor = 'val_loss', mode = 'min', verbose = 1, patience = 5) #to  monitor over the validation loss, verbosity and wait for few epochs before stopping\n",
        "mc = ModelCheckpoint('./model.h5', monitor = 'val_accuracy', mode = 'max', verbose = 1, save_best_only = True) #to save the weights of the highest validation accuracy"
      ],
      "metadata": {
        "id": "62wRA7CCNcqj"
      },
      "execution_count": 36,
      "outputs": []
    },
    {
      "cell_type": "code",
      "source": [
        "lstm_history = lstm.fit(X_train_pad,y_train, epochs = 10, batch_size = 64, validation_data=(X_test_pad, y_test),verbose = 1, callbacks= [es, mc])"
      ],
      "metadata": {
        "colab": {
          "base_uri": "https://localhost:8080/"
        },
        "id": "PmLsDCuANcnz",
        "outputId": "76d49c69-0129-472d-d9ea-38e2b284e9b1"
      },
      "execution_count": 37,
      "outputs": [
        {
          "output_type": "stream",
          "name": "stdout",
          "text": [
            "Epoch 1/10\n",
            "64/64 [==============================] - ETA: 0s - loss: 0.9353 - accuracy: 0.5608\n",
            "Epoch 1: val_accuracy improved from -inf to 0.64746, saving model to ./model.h5\n",
            "64/64 [==============================] - 139s 2s/step - loss: 0.9353 - accuracy: 0.5608 - val_loss: 0.8457 - val_accuracy: 0.6475\n",
            "Epoch 2/10\n",
            "64/64 [==============================] - ETA: 0s - loss: 0.6537 - accuracy: 0.7398\n",
            "Epoch 2: val_accuracy improved from 0.64746 to 0.68625, saving model to ./model.h5\n",
            "64/64 [==============================] - 135s 2s/step - loss: 0.6537 - accuracy: 0.7398 - val_loss: 0.7743 - val_accuracy: 0.6863\n",
            "Epoch 3/10\n",
            "64/64 [==============================] - ETA: 0s - loss: 0.4378 - accuracy: 0.8188\n",
            "Epoch 3: val_accuracy did not improve from 0.68625\n",
            "64/64 [==============================] - 134s 2s/step - loss: 0.4378 - accuracy: 0.8188 - val_loss: 0.9190 - val_accuracy: 0.6788\n",
            "Epoch 4/10\n",
            "64/64 [==============================] - ETA: 0s - loss: 0.2973 - accuracy: 0.8745\n",
            "Epoch 4: val_accuracy did not improve from 0.68625\n",
            "64/64 [==============================] - ETA: 0s - loss: 0.2153 - accuracy: 0.9005\n",
            "Epoch 5: val_accuracy did not improve from 0.68625\n",
            "64/64 [==============================] - 121s 2s/step - loss: 0.2153 - accuracy: 0.9005 - val_loss: 1.0513 - val_accuracy: 0.6458\n",
            "Epoch 6/10\n",
            "64/64 [==============================] - ETA: 0s - loss: 0.1713 - accuracy: 0.9139\n",
            "Epoch 6: val_accuracy did not improve from 0.68625\n",
            "64/64 [==============================] - 129s 2s/step - loss: 0.1713 - accuracy: 0.9139 - val_loss: 1.2562 - val_accuracy: 0.6418\n",
            "Epoch 7/10\n",
            "64/64 [==============================] - ETA: 0s - loss: 0.1630 - accuracy: 0.9188\n",
            "Epoch 7: val_accuracy did not improve from 0.68625\n",
            "64/64 [==============================] - 130s 2s/step - loss: 0.1630 - accuracy: 0.9188 - val_loss: 1.3231 - val_accuracy: 0.6526\n",
            "Epoch 7: early stopping\n"
          ]
        }
      ]
    },
    {
      "cell_type": "code",
      "source": [
        "plt.plot(lstm_history.history['accuracy'], label='Train Data')\n",
        "plt.plot(lstm_history.history['val_accuracy'], label='Test Data')\n",
        "\n",
        "plt.xlabel('Epoch')\n",
        "plt.ylabel('Accuracy') #the testing and training data are really far from each other\n",
        "\n",
        "plt.legend(loc='best')\n",
        "plt.show()"
      ],
      "metadata": {
        "colab": {
          "base_uri": "https://localhost:8080/",
          "height": 449
        },
        "id": "IkCIoqtHPASh",
        "outputId": "c69b6fa6-c4cf-49c2-b979-dd1ac7b9a733"
      },
      "execution_count": 38,
      "outputs": [
        {
          "output_type": "display_data",
          "data": {
            "text/plain": [
              "<Figure size 640x480 with 1 Axes>"
            ],
            "image/png": "[encoded data removed]"
          },
          "metadata": {}
        }
      ]
    },
    {
      "cell_type": "code",
      "source": [
        "plt.plot(lstm_history.history['loss'], label='Train loss')\n",
        "plt.plot(lstm_history.history['val_loss'], label='Test loss')\n",
        "plt.xlabel('Epoch')\n",
        "plt.ylabel('Loss')\n",
        "plt.legend(loc='best')\n",
        "plt.show()"
      ],
      "metadata": {
        "colab": {
          "base_uri": "https://localhost:8080/",
          "height": 449
        },
        "id": "8s9-iWrJNckO",
        "outputId": "5dde828d-9656-4841-f195-01c62e521bc8"
      },
      "execution_count": 39,
      "outputs": [
        {
          "output_type": "display_data",
          "data": {
            "text/plain": [
              "<Figure size 640x480 with 1 Axes>"
            ],
            "image/png": "[encoded data removed]"
          },
          "metadata": {}
        }
      ]
    },
    {
      "cell_type": "code",
      "source": [
        "from sklearn.metrics import classification_report\n",
        "\n",
        "predictions = lstm.predict(X_test_pad)\n",
        "target_names=['positive','negative','neutral']\n",
        "print(classification_report(np.argmax(y_test,axis=1),np.argmax(predictions,axis=1),target_names=target_names))"
      ],
      "metadata": {
        "colab": {
          "base_uri": "https://localhost:8080/"
        },
        "id": "M_DL_8HWSSdW",
        "outputId": "e7e4ee7a-9694-4b01-a531-ce3ff4f711d2"
      },
      "execution_count": 40,
      "outputs": [
        {
          "output_type": "stream",
          "name": "stdout",
          "text": [
            "55/55 [==============================] - 18s 280ms/step\n",
            "              precision    recall  f1-score   support\n",
            "\n",
            "    positive       0.62      0.77      0.69       556\n",
            "    negative       0.35      0.16      0.22       258\n",
            "     neutral       0.71      0.72      0.71       939\n",
            "\n",
            "    accuracy                           0.65      1753\n",
            "   macro avg       0.56      0.55      0.54      1753\n",
            "weighted avg       0.63      0.65      0.63      1753\n",
            "\n"
          ]
        }
      ]
    },
    {
      "cell_type": "markdown",
      "source": [
        "Glove LSTM model"
      ],
      "metadata": {
        "id": "1uL_5mU792Gy"
      }
    },
    {
      "cell_type": "code",
      "source": [
        "import gensim.downloader as api\n",
        "glove_gensim  = api.load('glove-wiki-gigaword-300')"
      ],
      "metadata": {
        "colab": {
          "base_uri": "https://localhost:8080/"
        },
        "id": "SqFePfR0SSZu",
        "outputId": "f7d83542-a582-44fc-bf81-088452b96f55"
      },
      "execution_count": 41,
      "outputs": [
        {
          "metadata": {
            "tags": null
          },
          "name": "stdout",
          "output_type": "stream",
          "text": [
            "[=================================================-] 99.0% 372.5/376.1MB downloaded\n"
          ]
        }
      ]
    },
    {
      "cell_type": "code",
      "source": [
        "glove_gensim.most_similar(positive=['king','woman'],negative=['man'],topn=1)"
      ],
      "metadata": {
        "colab": {
          "base_uri": "https://localhost:8080/"
        },
        "id": "bog_D8OWSSXK",
        "outputId": "08ff2df3-4771-4fae-dbdb-e2f9c0b83ab4"
      },
      "execution_count": 42,
      "outputs": [
        {
          "output_type": "execute_result",
          "data": {
            "text/plain": [
              "[('queen', 0.6713277101516724)]"
            ]
          },
          "metadata": {},
          "execution_count": 42
        }
      ]
    },
    {
      "cell_type": "code",
      "source": [
        "vector_size = 300\n",
        "gensim_weight_matrix = np.zeros((num_words ,vector_size))\n",
        "gensim_weight_matrix.shape\n",
        "\n",
        "for word, index in tqdm(tokenizer.word_index.items()):\n",
        "    if index < num_words: # since index starts with zero\n",
        "        try:\n",
        "            gensim_weight_matrix[index] = glove_gensim[word]\n",
        "        except:\n",
        "            gensim_weight_matrix[index] = np.zeros(300)"
      ],
      "metadata": {
        "colab": {
          "base_uri": "https://localhost:8080/",
          "height": 49,
          "referenced_widgets": [
            "5e2e3bd2221945b59345b90ff126d663",
            "0669b70bf1f84d84b47cf27e29551ad4",
            "17b026a98bd945d3b97156c0aa688aa4",
            "06a67bd7fbea4f85852be9c0d3c9a953",
            "6a0ff69b4a8c4391bfe6446f09f15f3d",
            "e1442668bbc248e6990475f773115481",
            "e413dfcea1ad4156a913b8ca31c39cd4",
            "9da7c2bd1e304128b76000701ac88ef0",
            "5e2b04a574df47b4ac8191033ae06354",
            "194018f8cd9d47d381e696f889cf0be3",
            "09b69ec7a66b41aabe18b6e53c80b0b7"
          ]
        },
        "id": "T6NnpkPvSSSN",
        "outputId": "6ffcb968-8519-4d20-fb9e-95ec8b634618"
      },
      "execution_count": 43,
      "outputs": [
        {
          "output_type": "display_data",
          "data": {
            "text/plain": [
              "  0%|          | 0/10912 [00:00<?, ?it/s]"
            ],
            "application/vnd.jupyter.widget-view+json": {
              "version_major": 2,
              "version_minor": 0,
              "model_id": "5e2e3bd2221945b59345b90ff126d663"
            }
          },
          "metadata": {}
        }
      ]
    },
    {
      "cell_type": "code",
      "source": [
        "gensim_weight_matrix.shape"
      ],
      "metadata": {
        "id": "SSzT1MRxTTqw",
        "outputId": "f56aded1-f3a8-4b50-89de-66e361cfc382",
        "colab": {
          "base_uri": "https://localhost:8080/"
        }
      },
      "execution_count": 44,
      "outputs": [
        {
          "output_type": "execute_result",
          "data": {
            "text/plain": [
              "(12000, 300)"
            ]
          },
          "metadata": {},
          "execution_count": 44
        }
      ]
    },
    {
      "cell_type": "code",
      "source": [
        "glove = Sequential()\n",
        "glove.add(Embedding(input_dim = num_words, output_dim = 300, input_length= X_train_pad.shape[1], weights = [gensim_weight_matrix], trainable = False))\n",
        "\n",
        "glove.add(Dropout(0.2))\n",
        "glove.add(Bidirectional(LSTM(128,return_sequences=True)))\n",
        "glove.add(Dropout(0.2))\n",
        "glove.add(Bidirectional(LSTM(256,return_sequences=True)))\n",
        "glove.add(Dropout(0.2))\n",
        "glove.add(Bidirectional(LSTM(128,return_sequences=False)))\n",
        "glove.add(Dense(64,activation='tanh'))\n",
        "glove.add(Dense(32,activation='tanh'))\n",
        "glove.add(Dense(10,activation='tanh'))\n",
        "glove.add(Dense(3,activation='softmax'))"
      ],
      "metadata": {
        "id": "_VPJUGYyTTnP"
      },
      "execution_count": 45,
      "outputs": []
    },
    {
      "cell_type": "code",
      "source": [
        "glove.summary()"
      ],
      "metadata": {
        "id": "w83L0rDeTTkd",
        "outputId": "ae1972e3-38b0-47c5-9ce3-3248877876ec",
        "colab": {
          "base_uri": "https://localhost:8080/"
        }
      },
      "execution_count": 46,
      "outputs": [
        {
          "output_type": "stream",
          "name": "stdout",
          "text": [
            "Model: \"sequential_1\"\n",
            "_________________________________________________________________\n",
            " Layer (type)                Output Shape              Param #   \n",
            "=================================================================\n",
            " embedding_1 (Embedding)     (None, 81, 300)           3600000   \n",
            "                                                                 \n",
            " dropout_3 (Dropout)         (None, 81, 300)           0         \n",
            "                                                                 \n",
            " bidirectional_3 (Bidirectio  (None, 81, 256)          439296    \n",
            " nal)                                                            \n",
            "                                                                 \n",
            " dropout_4 (Dropout)         (None, 81, 256)           0         \n",
            "                                                                 \n",
            " bidirectional_4 (Bidirectio  (None, 81, 512)          1050624   \n",
            " nal)                                                            \n",
            "                                                                 \n",
            " dropout_5 (Dropout)         (None, 81, 512)           0         \n",
            "                                                                 \n",
            " bidirectional_5 (Bidirectio  (None, 256)              656384    \n",
            " nal)                                                            \n",
            "                                                                 \n",
            " dense_4 (Dense)             (None, 64)                16448     \n",
            "                                                                 \n",
            " dense_5 (Dense)             (None, 32)                2080      \n",
            "                                                                 \n",
            " dense_6 (Dense)             (None, 10)                330       \n",
            "                                                                 \n",
            " dense_7 (Dense)             (None, 3)                 33        \n",
            "                                                                 \n",
            "=================================================================\n",
            "Total params: 5,765,195\n",
            "Trainable params: 2,165,195\n",
            "Non-trainable params: 3,600,000\n",
            "_________________________________________________________________\n"
          ]
        }
      ]
    },
    {
      "cell_type": "code",
      "source": [
        "glove.compile(optimizer='adam',loss='categorical_crossentropy',metrics=['accuracy'])\n",
        "\n",
        "glove_history = glove.fit(X_train_pad,y_train, epochs = 10, batch_size = 64, validation_data=(X_test_pad, y_test),verbose = 1, callbacks= [es, mc])"
      ],
      "metadata": {
        "id": "9_4ZW_ARTTiO",
        "outputId": "3469cf49-25ce-47a3-8a36-49950a84d34b",
        "colab": {
          "base_uri": "https://localhost:8080/"
        }
      },
      "execution_count": 47,
      "outputs": [
        {
          "output_type": "stream",
          "name": "stdout",
          "text": [
            "Epoch 1/10\n",
            "64/64 [==============================] - ETA: 0s - loss: 0.8595 - accuracy: 0.6036\n",
            "Epoch 1: val_accuracy did not improve from 0.68625\n",
            "64/64 [==============================] - 166s 2s/step - loss: 0.8595 - accuracy: 0.6036 - val_loss: 0.8051 - val_accuracy: 0.6264\n",
            "Epoch 2/10\n",
            "64/64 [==============================] - ETA: 0s - loss: 0.7255 - accuracy: 0.6833\n",
            "Epoch 2: val_accuracy did not improve from 0.68625\n",
            "64/64 [==============================] - 132s 2s/step - loss: 0.7255 - accuracy: 0.6833 - val_loss: 0.7252 - val_accuracy: 0.6857\n",
            "Epoch 3/10\n",
            "64/64 [==============================] - ETA: 0s - loss: 0.6619 - accuracy: 0.7144\n",
            "Epoch 3: val_accuracy did not improve from 0.68625\n",
            "64/64 [==============================] - 143s 2s/step - loss: 0.6619 - accuracy: 0.7144 - val_loss: 0.7310 - val_accuracy: 0.6817\n",
            "Epoch 4/10\n",
            "64/64 [==============================] - ETA: 0s - loss: 0.6040 - accuracy: 0.7435\n",
            "Epoch 4: val_accuracy did not improve from 0.68625\n",
            "64/64 [==============================] - 144s 2s/step - loss: 0.6040 - accuracy: 0.7435 - val_loss: 0.7232 - val_accuracy: 0.6771\n",
            "Epoch 5/10\n",
            "64/64 [==============================] - ETA: 0s - loss: 0.5529 - accuracy: 0.7640\n",
            "Epoch 5: val_accuracy improved from 0.68625 to 0.69253, saving model to ./model.h5\n",
            "64/64 [==============================] - 141s 2s/step - loss: 0.5529 - accuracy: 0.7640 - val_loss: 0.7425 - val_accuracy: 0.6925\n",
            "Epoch 6/10\n",
            "64/64 [==============================] - ETA: 0s - loss: 0.5088 - accuracy: 0.7828\n",
            "Epoch 6: val_accuracy did not improve from 0.69253\n",
            "64/64 [==============================] - 137s 2s/step - loss: 0.5088 - accuracy: 0.7828 - val_loss: 0.7976 - val_accuracy: 0.6880\n",
            "Epoch 7/10\n",
            "64/64 [==============================] - ETA: 0s - loss: 0.4502 - accuracy: 0.8136\n",
            "Epoch 7: val_accuracy improved from 0.69253 to 0.69880, saving model to ./model.h5\n",
            "64/64 [==============================] - 138s 2s/step - loss: 0.4502 - accuracy: 0.8136 - val_loss: 0.7523 - val_accuracy: 0.6988\n",
            "Epoch 8/10\n",
            "64/64 [==============================] - ETA: 0s - loss: 0.4208 - accuracy: 0.8193\n",
            "Epoch 8: val_accuracy improved from 0.69880 to 0.70793, saving model to ./model.h5\n",
            "64/64 [==============================] - 138s 2s/step - loss: 0.4208 - accuracy: 0.8193 - val_loss: 0.7416 - val_accuracy: 0.7079\n",
            "Epoch 9/10\n",
            "64/64 [==============================] - ETA: 0s - loss: 0.3821 - accuracy: 0.8347\n",
            "Epoch 9: val_accuracy did not improve from 0.70793\n",
            "64/64 [==============================] - 136s 2s/step - loss: 0.3821 - accuracy: 0.8347 - val_loss: 0.7754 - val_accuracy: 0.7005\n",
            "Epoch 9: early stopping\n"
          ]
        }
      ]
    },
    {
      "cell_type": "code",
      "source": [
        "plt.plot(glove_history.history['accuracy'], label='Train Data')\n",
        "plt.plot(glove_history.history['val_accuracy'], label='Test Data')\n",
        "plt.xlabel('Epoch')\n",
        "plt.ylabel('Accuracy')\n",
        "#plt.ylim([0.98, 1])\n",
        "plt.legend(loc='best')\n",
        "plt.show()"
      ],
      "metadata": {
        "id": "6wGQmfwUTTgV",
        "outputId": "8de5bdbb-971d-436f-dfe9-c4b1df4cd51a",
        "colab": {
          "base_uri": "https://localhost:8080/",
          "height": 449
        }
      },
      "execution_count": 48,
      "outputs": [
        {
          "output_type": "display_data",
          "data": {
            "text/plain": [
              "<Figure size 640x480 with 1 Axes>"
            ],
            "image/png": "[encoded data removed]"
          },
          "metadata": {}
        }
      ]
    },
    {
      "cell_type": "code",
      "source": [
        "plt.plot(glove_history.history['loss'], label='Train loss')\n",
        "plt.plot(glove_history.history['val_loss'], label='Test loss')\n",
        "plt.xlabel('Epoch')\n",
        "plt.ylabel('Loss')\n",
        "plt.legend(loc='best')\n",
        "plt.show()"
      ],
      "metadata": {
        "id": "b75_2tffTTdw",
        "outputId": "22b98509-6ee1-4c95-ebb1-7f7dbdd45e21",
        "colab": {
          "base_uri": "https://localhost:8080/",
          "height": 449
        }
      },
      "execution_count": 49,
      "outputs": [
        {
          "output_type": "display_data",
          "data": {
            "text/plain": [
              "<Figure size 640x480 with 1 Axes>"
            ],
            "image/png": "[encoded data removed]"
          },
          "metadata": {}
        }
      ]
    },
    {
      "cell_type": "code",
      "source": [
        "predictions = glove.predict(X_test_pad)\n",
        "target_names=['positive','negative','neutral']\n",
        "print(classification_report(np.argmax(y_test,axis=1),np.argmax(predictions,axis=1),target_names=target_names))"
      ],
      "metadata": {
        "id": "oC2O-XYzTTb1",
        "outputId": "7273bb5d-fe8c-4278-a54d-fa4c6ac4e962",
        "colab": {
          "base_uri": "https://localhost:8080/"
        }
      },
      "execution_count": 50,
      "outputs": [
        {
          "output_type": "stream",
          "name": "stdout",
          "text": [
            "55/55 [==============================] - 20s 322ms/step\n",
            "              precision    recall  f1-score   support\n",
            "\n",
            "    positive       0.76      0.66      0.70       556\n",
            "    negative       0.42      0.26      0.32       258\n",
            "     neutral       0.72      0.85      0.78       939\n",
            "\n",
            "    accuracy                           0.70      1753\n",
            "   macro avg       0.63      0.59      0.60      1753\n",
            "weighted avg       0.69      0.70      0.69      1753\n",
            "\n"
          ]
        }
      ]
    },
    {
      "cell_type": "markdown",
      "source": [
        "Glove vector embedding along with GRU as recurrent layer instead of LSTM"
      ],
      "metadata": {
        "id": "bdSOjGrr_1sE"
      }
    },
    {
      "cell_type": "code",
      "source": [
        "from keras.layers import GRU\n",
        "gru = Sequential()\n",
        "gru.add(Embedding(input_dim = num_words, output_dim = 300, input_length= X_train_pad.shape[1], weights = [gensim_weight_matrix], trainable = False))\n",
        "\n",
        "gru.add(Dropout(0.2))\n",
        "gru.add(Bidirectional(GRU(128,return_sequences=True)))\n",
        "gru.add(Dropout(0.2))\n",
        "gru.add(Bidirectional(GRU(256,return_sequences=True)))\n",
        "gru.add(Dropout(0.2))\n",
        "gru.add(Bidirectional(GRU(128,return_sequences=False)))\n",
        "gru.add(Dense(64,activation='tanh'))\n",
        "gru.add(Dense(32,activation='tanh'))\n",
        "gru.add(Dense(10,activation='tanh'))\n",
        "gru.add(Dense(3,activation='softmax'))"
      ],
      "metadata": {
        "id": "vr2I7kBWhGeX"
      },
      "execution_count": 63,
      "outputs": []
    },
    {
      "cell_type": "code",
      "source": [
        "gru.summary()"
      ],
      "metadata": {
        "id": "jWo0dgTnhGbJ",
        "outputId": "15801078-6881-458a-d92b-ce9385812fa5",
        "colab": {
          "base_uri": "https://localhost:8080/"
        }
      },
      "execution_count": 64,
      "outputs": [
        {
          "output_type": "stream",
          "name": "stdout",
          "text": [
            "Model: \"sequential_4\"\n",
            "_________________________________________________________________\n",
            " Layer (type)                Output Shape              Param #   \n",
            "=================================================================\n",
            " embedding_4 (Embedding)     (None, 81, 300)           3600000   \n",
            "                                                                 \n",
            " dropout_12 (Dropout)        (None, 81, 300)           0         \n",
            "                                                                 \n",
            " bidirectional_12 (Bidirecti  (None, 81, 256)          330240    \n",
            " onal)                                                           \n",
            "                                                                 \n",
            " dropout_13 (Dropout)        (None, 81, 256)           0         \n",
            "                                                                 \n",
            " bidirectional_13 (Bidirecti  (None, 81, 512)          789504    \n",
            " onal)                                                           \n",
            "                                                                 \n",
            " dropout_14 (Dropout)        (None, 81, 512)           0         \n",
            "                                                                 \n",
            " bidirectional_14 (Bidirecti  (None, 256)              493056    \n",
            " onal)                                                           \n",
            "                                                                 \n",
            " dense_16 (Dense)            (None, 64)                16448     \n",
            "                                                                 \n",
            " dense_17 (Dense)            (None, 32)                2080      \n",
            "                                                                 \n",
            " dense_18 (Dense)            (None, 10)                330       \n",
            "                                                                 \n",
            " dense_19 (Dense)            (None, 3)                 33        \n",
            "                                                                 \n",
            "=================================================================\n",
            "Total params: 5,231,691\n",
            "Trainable params: 1,631,691\n",
            "Non-trainable params: 3,600,000\n",
            "_________________________________________________________________\n"
          ]
        }
      ]
    },
    {
      "cell_type": "code",
      "source": [
        "gru.compile(optimizer='adam',loss='categorical_crossentropy',metrics=['accuracy'])"
      ],
      "metadata": {
        "id": "L0tvl4fxhGYt"
      },
      "execution_count": 65,
      "outputs": []
    },
    {
      "cell_type": "code",
      "source": [
        "gru_history = gru.fit(X_train_pad,y_train, epochs = 10, batch_size = 64, validation_data=(X_test_pad, y_test),verbose = 1, callbacks= [es, mc])"
      ],
      "metadata": {
        "id": "fA_z6uqIhGWl",
        "outputId": "13ab8d3a-e386-4c05-9c6c-4619e3a573b2",
        "colab": {
          "base_uri": "https://localhost:8080/"
        }
      },
      "execution_count": 66,
      "outputs": [
        {
          "output_type": "stream",
          "name": "stdout",
          "text": [
            "Epoch 1/10\n",
            "64/64 [==============================] - ETA: 0s - loss: 0.9186 - accuracy: 0.5676\n",
            "Epoch 1: val_accuracy did not improve from 0.70793\n",
            "64/64 [==============================] - 119s 2s/step - loss: 0.9186 - accuracy: 0.5676 - val_loss: 0.8534 - val_accuracy: 0.6258\n",
            "Epoch 2/10\n",
            "64/64 [==============================] - ETA: 0s - loss: 0.8076 - accuracy: 0.6420\n",
            "Epoch 2: val_accuracy did not improve from 0.70793\n",
            "64/64 [==============================] - 108s 2s/step - loss: 0.8076 - accuracy: 0.6420 - val_loss: 0.8053 - val_accuracy: 0.6497\n",
            "Epoch 3/10\n",
            "64/64 [==============================] - ETA: 0s - loss: 0.7626 - accuracy: 0.6676\n",
            "Epoch 3: val_accuracy did not improve from 0.70793\n",
            "64/64 [==============================] - 107s 2s/step - loss: 0.7626 - accuracy: 0.6676 - val_loss: 0.7889 - val_accuracy: 0.6560\n",
            "Epoch 4/10\n",
            "64/64 [==============================] - ETA: 0s - loss: 0.7345 - accuracy: 0.6875\n",
            "Epoch 4: val_accuracy did not improve from 0.70793\n",
            "64/64 [==============================] - 114s 2s/step - loss: 0.7345 - accuracy: 0.6875 - val_loss: 0.7777 - val_accuracy: 0.6492\n",
            "Epoch 5/10\n",
            "64/64 [==============================] - ETA: 0s - loss: 0.7005 - accuracy: 0.6970\n",
            "Epoch 5: val_accuracy did not improve from 0.70793\n",
            "64/64 [==============================] - 111s 2s/step - loss: 0.7005 - accuracy: 0.6970 - val_loss: 0.7637 - val_accuracy: 0.6731\n",
            "Epoch 6/10\n",
            "64/64 [==============================] - ETA: 0s - loss: 0.6811 - accuracy: 0.7109\n",
            "Epoch 6: val_accuracy did not improve from 0.70793\n",
            "64/64 [==============================] - 112s 2s/step - loss: 0.6811 - accuracy: 0.7109 - val_loss: 0.7356 - val_accuracy: 0.6708\n",
            "Epoch 7/10\n",
            "64/64 [==============================] - ETA: 0s - loss: 0.6667 - accuracy: 0.7158\n",
            "Epoch 7: val_accuracy did not improve from 0.70793\n",
            "64/64 [==============================] - 111s 2s/step - loss: 0.6667 - accuracy: 0.7158 - val_loss: 0.7472 - val_accuracy: 0.6845\n",
            "Epoch 8/10\n",
            "64/64 [==============================] - ETA: 0s - loss: 0.6417 - accuracy: 0.7173\n",
            "Epoch 8: val_accuracy did not improve from 0.70793\n",
            "64/64 [==============================] - 108s 2s/step - loss: 0.6417 - accuracy: 0.7173 - val_loss: 0.7098 - val_accuracy: 0.6811\n",
            "Epoch 9/10\n",
            "64/64 [==============================] - ETA: 0s - loss: 0.6283 - accuracy: 0.7263\n",
            "Epoch 9: val_accuracy did not improve from 0.70793\n",
            "64/64 [==============================] - 109s 2s/step - loss: 0.6283 - accuracy: 0.7263 - val_loss: 0.7156 - val_accuracy: 0.6840\n",
            "Epoch 10/10\n",
            "64/64 [==============================] - ETA: 0s - loss: 0.6012 - accuracy: 0.7410\n",
            "Epoch 10: val_accuracy did not improve from 0.70793\n",
            "64/64 [==============================] - 107s 2s/step - loss: 0.6012 - accuracy: 0.7410 - val_loss: 0.7223 - val_accuracy: 0.6959\n"
          ]
        }
      ]
    },
    {
      "cell_type": "code",
      "source": [
        "plt.plot(gru_history.history['accuracy'], label='Train Data')\n",
        "plt.plot(gru_history.history['val_accuracy'], label='Test Data')\n",
        "\n",
        "plt.xlabel('Epoch')\n",
        "plt.ylabel('Accuracy')\n",
        "\n",
        "plt.legend(loc='best')\n",
        "plt.show()"
      ],
      "metadata": {
        "id": "1OhNXya-hGUP",
        "outputId": "ed11b8cd-a646-42fd-e0b7-29d2a653ed01",
        "colab": {
          "base_uri": "https://localhost:8080/",
          "height": 449
        }
      },
      "execution_count": 67,
      "outputs": [
        {
          "output_type": "display_data",
          "data": {
            "text/plain": [
              "<Figure size 640x480 with 1 Axes>"
            ],
            "image/png": "[encoded data removed]"
          },
          "metadata": {}
        }
      ]
    },
    {
      "cell_type": "code",
      "source": [
        "plt.plot(gru_history.history['loss'], label='Train loss')\n",
        "plt.plot(gru_history.history['val_loss'], label='Test loss')\n",
        "\n",
        "plt.xlabel('Epoch')\n",
        "plt.ylabel('Loss')\n",
        "plt.legend(loc='best')\n",
        "plt.show()"
      ],
      "metadata": {
        "id": "uzVuEMCKhGSe",
        "outputId": "d189fb81-7588-4b91-fbdc-9c031a689e5a",
        "colab": {
          "base_uri": "https://localhost:8080/",
          "height": 449
        }
      },
      "execution_count": 68,
      "outputs": [
        {
          "output_type": "display_data",
          "data": {
            "text/plain": [
              "<Figure size 640x480 with 1 Axes>"
            ],
            "image/png": "[encoded data removed]"
          },
          "metadata": {}
        }
      ]
    },
    {
      "cell_type": "code",
      "source": [
        "predictions = gru.predict(X_test_pad)\n",
        "target_names=['positive','negative','neutral']\n",
        "print(classification_report(np.argmax(y_test,axis=1),np.argmax(predictions,axis=1),target_names=target_names))"
      ],
      "metadata": {
        "id": "nSDKo4w1hGQA",
        "outputId": "8a3fb785-47e5-4d74-fd73-c79bca6e586d",
        "colab": {
          "base_uri": "https://localhost:8080/"
        }
      },
      "execution_count": 69,
      "outputs": [
        {
          "output_type": "stream",
          "name": "stdout",
          "text": [
            "55/55 [==============================] - 16s 255ms/step\n",
            "              precision    recall  f1-score   support\n",
            "\n",
            "    positive       0.64      0.76      0.70       556\n",
            "    negative       0.70      0.10      0.18       258\n",
            "     neutral       0.73      0.82      0.77       939\n",
            "\n",
            "    accuracy                           0.70      1753\n",
            "   macro avg       0.69      0.56      0.55      1753\n",
            "weighted avg       0.70      0.70      0.66      1753\n",
            "\n"
          ]
        }
      ]
    },
    {
      "cell_type": "markdown",
      "source": [
        "Fasttext vector embedding with lstm"
      ],
      "metadata": {
        "id": "VT3Gl-zDAKUN"
      }
    },
    {
      "cell_type": "code",
      "source": [
        "import gensim.downloader as api\n",
        "glove_gensim  = api.load('fasttext-wiki-news-subwords-300')"
      ],
      "metadata": {
        "id": "13EDiqkzTTZT",
        "outputId": "1643559e-037d-4bab-8ff9-4680f9cc7ad2",
        "colab": {
          "base_uri": "https://localhost:8080/"
        }
      },
      "execution_count": 51,
      "outputs": [
        {
          "output_type": "stream",
          "name": "stdout",
          "text": [
            "[==================================================] 100.0% 958.5/958.4MB downloaded\n"
          ]
        }
      ]
    },
    {
      "cell_type": "code",
      "source": [
        "vector_size = 300\n",
        "gensim_weight_matrix = np.zeros((num_words ,vector_size))\n",
        "gensim_weight_matrix.shape\n",
        "\n",
        "for word, index in tqdm(tokenizer.word_index.items()):\n",
        "    if index < num_words: #as index starts with zero\n",
        "        try:\n",
        "            gensim_weight_matrix[index] = glove_gensim[word]\n",
        "        except:\n",
        "            gensim_weight_matrix[index] = np.zeros(300)"
      ],
      "metadata": {
        "id": "OA8fjvVmTTW_",
        "outputId": "a3b7b44c-f722-44e4-f128-9252738bae05",
        "colab": {
          "base_uri": "https://localhost:8080/",
          "height": 49,
          "referenced_widgets": [
            "fe5c710205c74c2dbfdc28b8a86c3fa8",
            "18d9d5ce8ff74aaab126a2cfb31b686f",
            "97c20e7302014e7e97c437325b021f73",
            "7575dab6f7b54cab8da21f9463acb551",
            "c8ba747ac1854547bd84f85e73902e55",
            "b78efdc67cef49a3a34b3c54aa6d42a0",
            "f89a1635a7f447d8b9ace4ae04d9dd40",
            "75fc928cb73441429da893c69e0eac45",
            "914caffc252446d09ecf1621027c6cc9",
            "1fd67f7689934f4da8ef0bbeac7b7d8e",
            "10b37e5e7b3f4cbdb26f6c379780b5ed"
          ]
        }
      },
      "execution_count": 52,
      "outputs": [
        {
          "output_type": "display_data",
          "data": {
            "text/plain": [
              "  0%|          | 0/10912 [00:00<?, ?it/s]"
            ],
            "application/vnd.jupyter.widget-view+json": {
              "version_major": 2,
              "version_minor": 0,
              "model_id": "fe5c710205c74c2dbfdc28b8a86c3fa8"
            }
          },
          "metadata": {}
        }
      ]
    },
    {
      "cell_type": "code",
      "source": [
        "ftext = Sequential()\n",
        "ftext.add(Embedding(input_dim = num_words, output_dim = 300, input_length= X_train_pad.shape[1], weights = [gensim_weight_matrix], trainable = False))\n",
        "\n",
        "ftext.add(Dropout(0.2))\n",
        "ftext.add(Bidirectional(LSTM(128,return_sequences=True)))\n",
        "ftext.add(Dropout(0.2))\n",
        "ftext.add(Bidirectional(LSTM(256,return_sequences=True)))\n",
        "ftext.add(Dropout(0.2))\n",
        "ftext.add(Bidirectional(LSTM(128,return_sequences=False)))\n",
        "ftext.add(Dense(64,activation='tanh'))\n",
        "ftext.add(Dense(32,activation='tanh'))\n",
        "ftext.add(Dense(10,activation='tanh'))\n",
        "ftext.add(Dense(3,activation='softmax'))"
      ],
      "metadata": {
        "id": "1MX6vZt4TTU3"
      },
      "execution_count": 53,
      "outputs": []
    },
    {
      "cell_type": "code",
      "source": [
        "ftext.summary()"
      ],
      "metadata": {
        "id": "iK4FUFpxTTST",
        "outputId": "8602586c-535f-4604-b1af-647a0d09acbb",
        "colab": {
          "base_uri": "https://localhost:8080/"
        }
      },
      "execution_count": 54,
      "outputs": [
        {
          "output_type": "stream",
          "name": "stdout",
          "text": [
            "Model: \"sequential_2\"\n",
            "_________________________________________________________________\n",
            " Layer (type)                Output Shape              Param #   \n",
            "=================================================================\n",
            " embedding_2 (Embedding)     (None, 81, 300)           3600000   \n",
            "                                                                 \n",
            " dropout_6 (Dropout)         (None, 81, 300)           0         \n",
            "                                                                 \n",
            " bidirectional_6 (Bidirectio  (None, 81, 256)          439296    \n",
            " nal)                                                            \n",
            "                                                                 \n",
            " dropout_7 (Dropout)         (None, 81, 256)           0         \n",
            "                                                                 \n",
            " bidirectional_7 (Bidirectio  (None, 81, 512)          1050624   \n",
            " nal)                                                            \n",
            "                                                                 \n",
            " dropout_8 (Dropout)         (None, 81, 512)           0         \n",
            "                                                                 \n",
            " bidirectional_8 (Bidirectio  (None, 256)              656384    \n",
            " nal)                                                            \n",
            "                                                                 \n",
            " dense_8 (Dense)             (None, 64)                16448     \n",
            "                                                                 \n",
            " dense_9 (Dense)             (None, 32)                2080      \n",
            "                                                                 \n",
            " dense_10 (Dense)            (None, 10)                330       \n",
            "                                                                 \n",
            " dense_11 (Dense)            (None, 3)                 33        \n",
            "                                                                 \n",
            "=================================================================\n",
            "Total params: 5,765,195\n",
            "Trainable params: 2,165,195\n",
            "Non-trainable params: 3,600,000\n",
            "_________________________________________________________________\n"
          ]
        }
      ]
    },
    {
      "cell_type": "code",
      "source": [
        "ftext.compile(optimizer='adam',loss='categorical_crossentropy',metrics=['accuracy'])"
      ],
      "metadata": {
        "id": "0S-jQgh8TTPs"
      },
      "execution_count": 55,
      "outputs": []
    },
    {
      "cell_type": "code",
      "source": [
        "ftext_history = ftext.fit(X_train_pad,y_train, epochs = 10, batch_size = 64, validation_data=(X_test_pad, y_test),verbose = 1, callbacks= [es, mc])"
      ],
      "metadata": {
        "id": "Hz19LOrrTTM-",
        "outputId": "25dfcb02-7eb5-40a3-95ed-46ab77209d7b",
        "colab": {
          "base_uri": "https://localhost:8080/"
        }
      },
      "execution_count": 56,
      "outputs": [
        {
          "output_type": "stream",
          "name": "stdout",
          "text": [
            "Epoch 1/10\n",
            "64/64 [==============================] - ETA: 0s - loss: 0.9303 - accuracy: 0.5588\n",
            "Epoch 1: val_accuracy did not improve from 0.70793\n",
            "64/64 [==============================] - 159s 2s/step - loss: 0.9303 - accuracy: 0.5588 - val_loss: 0.8702 - val_accuracy: 0.6115\n",
            "Epoch 2/10\n",
            "64/64 [==============================] - ETA: 0s - loss: 0.8273 - accuracy: 0.6341\n",
            "Epoch 2: val_accuracy did not improve from 0.70793\n",
            "64/64 [==============================] - 143s 2s/step - loss: 0.8273 - accuracy: 0.6341 - val_loss: 0.8190 - val_accuracy: 0.6292\n",
            "Epoch 3/10\n",
            "64/64 [==============================] - ETA: 0s - loss: 0.7794 - accuracy: 0.6584\n",
            "Epoch 3: val_accuracy did not improve from 0.70793\n",
            "64/64 [==============================] - 142s 2s/step - loss: 0.7794 - accuracy: 0.6584 - val_loss: 0.7816 - val_accuracy: 0.6515\n",
            "Epoch 4/10\n",
            "64/64 [==============================] - ETA: 0s - loss: 0.7310 - accuracy: 0.6816\n",
            "Epoch 4: val_accuracy did not improve from 0.70793\n",
            "64/64 [==============================] - 143s 2s/step - loss: 0.7310 - accuracy: 0.6816 - val_loss: 0.7608 - val_accuracy: 0.6554\n",
            "Epoch 5/10\n",
            "64/64 [==============================] - ETA: 0s - loss: 0.6949 - accuracy: 0.6992\n",
            "Epoch 5: val_accuracy did not improve from 0.70793\n",
            "64/64 [==============================] - 144s 2s/step - loss: 0.6949 - accuracy: 0.6992 - val_loss: 0.7479 - val_accuracy: 0.6640\n",
            "Epoch 6/10\n",
            "64/64 [==============================] - ETA: 0s - loss: 0.6871 - accuracy: 0.7007\n",
            "Epoch 6: val_accuracy did not improve from 0.70793\n",
            "64/64 [==============================] - 141s 2s/step - loss: 0.6871 - accuracy: 0.7007 - val_loss: 0.7511 - val_accuracy: 0.6526\n",
            "Epoch 7/10\n",
            "64/64 [==============================] - ETA: 0s - loss: 0.6489 - accuracy: 0.7131\n",
            "Epoch 7: val_accuracy did not improve from 0.70793\n",
            "64/64 [==============================] - 140s 2s/step - loss: 0.6489 - accuracy: 0.7131 - val_loss: 0.7577 - val_accuracy: 0.6828\n",
            "Epoch 8/10\n",
            "64/64 [==============================] - ETA: 0s - loss: 0.6459 - accuracy: 0.7129\n",
            "Epoch 8: val_accuracy did not improve from 0.70793\n",
            "64/64 [==============================] - 140s 2s/step - loss: 0.6459 - accuracy: 0.7129 - val_loss: 0.8141 - val_accuracy: 0.6435\n",
            "Epoch 9/10\n",
            "64/64 [==============================] - ETA: 0s - loss: 0.6382 - accuracy: 0.7178\n",
            "Epoch 9: val_accuracy did not improve from 0.70793\n",
            "64/64 [==============================] - 141s 2s/step - loss: 0.6382 - accuracy: 0.7178 - val_loss: 0.7159 - val_accuracy: 0.6811\n",
            "Epoch 10/10\n",
            "64/64 [==============================] - ETA: 0s - loss: 0.6052 - accuracy: 0.7393\n",
            "Epoch 10: val_accuracy did not improve from 0.70793\n",
            "64/64 [==============================] - 140s 2s/step - loss: 0.6052 - accuracy: 0.7393 - val_loss: 0.7172 - val_accuracy: 0.6714\n"
          ]
        }
      ]
    },
    {
      "cell_type": "code",
      "source": [
        "plt.plot(ftext_history.history['accuracy'], label='Train Data')\n",
        "plt.plot(ftext_history.history['val_accuracy'], label='Test Data')\n",
        "plt.xlabel('Epoch')\n",
        "plt.ylabel('Accuracy')\n",
        "\n",
        "plt.legend(loc='best')\n",
        "plt.show()"
      ],
      "metadata": {
        "id": "dlUs6UhYTTKL",
        "outputId": "3194f26d-f53d-41a3-dc9c-820e7285bf6d",
        "colab": {
          "base_uri": "https://localhost:8080/",
          "height": 449
        }
      },
      "execution_count": 59,
      "outputs": [
        {
          "output_type": "display_data",
          "data": {
            "text/plain": [
              "<Figure size 640x480 with 1 Axes>"
            ],
            "image/png": "[encoded data removed]"
          },
          "metadata": {}
        }
      ]
    },
    {
      "cell_type": "code",
      "source": [
        "plt.plot(ftext_history.history['loss'], label='Train loss')\n",
        "plt.plot(ftext_history.history['val_loss'], label='Test loss')\n",
        "plt.xlabel('Epoch')\n",
        "plt.ylabel('Loss')\n",
        "plt.legend(loc='best')\n",
        "plt.show()"
      ],
      "metadata": {
        "id": "8xI4YXphTTHk",
        "outputId": "8826032d-e59d-46aa-9016-30b46292759a",
        "colab": {
          "base_uri": "https://localhost:8080/",
          "height": 449
        }
      },
      "execution_count": 60,
      "outputs": [
        {
          "output_type": "display_data",
          "data": {
            "text/plain": [
              "<Figure size 640x480 with 1 Axes>"
            ],
            "image/png": "[encoded data removed]"
          },
          "metadata": {}
        }
      ]
    },
    {
      "cell_type": "code",
      "source": [
        "predictions = ftext.predict(X_test_pad)\n",
        "target_names=['positive','negative','neutral']\n",
        "print(classification_report(np.argmax(y_test,axis=1),np.argmax(predictions,axis=1),target_names=target_names))"
      ],
      "metadata": {
        "id": "f-wyi-YUTTFO",
        "outputId": "3d08cbe9-3b2e-4025-b82f-f9f46c0c8374",
        "colab": {
          "base_uri": "https://localhost:8080/"
        }
      },
      "execution_count": 61,
      "outputs": [
        {
          "output_type": "stream",
          "name": "stdout",
          "text": [
            "55/55 [==============================] - 19s 309ms/step\n",
            "              precision    recall  f1-score   support\n",
            "\n",
            "    positive       0.68      0.63      0.65       556\n",
            "    negative       0.41      0.50      0.45       258\n",
            "     neutral       0.75      0.74      0.75       939\n",
            "\n",
            "    accuracy                           0.67      1753\n",
            "   macro avg       0.62      0.62      0.62      1753\n",
            "weighted avg       0.68      0.67      0.67      1753\n",
            "\n"
          ]
        }
      ]
    },
    {
      "cell_type": "code",
      "source": [],
      "metadata": {
        "id": "nV6TyrGETTCn"
      },
      "execution_count": null,
      "outputs": []
    },
    {
      "cell_type": "code",
      "source": [],
      "metadata": {
        "id": "eO1x7mAHTTAU"
      },
      "execution_count": null,
      "outputs": []
    },
    {
      "cell_type": "code",
      "source": [],
      "metadata": {
        "id": "6lqryrPuNchv"
      },
      "execution_count": null,
      "outputs": []
    }
  ]
}